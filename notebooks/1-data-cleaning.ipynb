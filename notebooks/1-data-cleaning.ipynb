{
 "cells": [
  {
   "cell_type": "markdown",
   "metadata": {},
   "source": [
    "## Cleaning and merging dataframe of different countries"
   ]
  },
  {
   "cell_type": "markdown",
   "metadata": {},
   "source": [
    "This notebook concat information of each user data to one single dataframe"
   ]
  },
  {
   "cell_type": "code",
   "execution_count": 1,
   "metadata": {},
   "outputs": [],
   "source": [
    "import pandas as pd\n",
    "from glob import glob\n",
    "import os\n"
   ]
  },
  {
   "cell_type": "code",
   "execution_count": 2,
   "metadata": {},
   "outputs": [],
   "source": [
    "countries = [\n",
    "    'belgium',\n",
    "    'malaysia',\n",
    "    'indonesia',\n",
    "    'australia',\n",
    "    'new-zealand',\n",
    "    'singapore',\n",
    "    'united-states',\n",
    "    'canada',\n",
    "    'united-kingdom'\n",
    "]"
   ]
  },
  {
   "cell_type": "code",
   "execution_count": 3,
   "metadata": {},
   "outputs": [],
   "source": [
    "country_region = {\n",
    "    'belgium' : 'europe',\n",
    "    'malaysia': 'asia',\n",
    "    'indonesia': 'asia',\n",
    "    'australia': 'oceania',\n",
    "    'new-zealand': 'oceania',\n",
    "    'singapore': 'asia',\n",
    "    'united-states': 'america',\n",
    "    'canada': 'america',\n",
    "    'united-kingdom': 'europe'\n",
    "}"
   ]
  },
  {
   "cell_type": "code",
   "execution_count": 4,
   "metadata": {},
   "outputs": [],
   "source": [
    "def clean_pd(df, country):\n",
    "    df['hour'] = pd.to_datetime(df['time']).dt.hour\n",
    "    df['week'] = pd.to_datetime(df['date']).dt.day_name()\n",
    "    weekdays = ['Monday','Tuesday','Wednesday','Thursday','Friday','Saturday','Sunday']\n",
    "    hours = pd.DataFrame(pd.DataFrame(pd.get_dummies(df['hour']), columns=range(24)).fillna(0).sum()).T.astype(int)\n",
    "    days = pd.DataFrame(pd.DataFrame(pd.get_dummies(df['week']), columns=weekdays).fillna(0).sum()).T.astype(int)\n",
    "    final = pd.concat([hours,days], axis=1)\n",
    "    final['username'] = df['username'][0]\n",
    "    final['country'] = country\n",
    "    final['region'] = country_region[country]\n",
    "    final['tweets'] = ''.join([t for t in df['tweet']])\n",
    "    final = final[list(final.columns[31:]) + list(final.columns[:31])]\n",
    "    return final"
   ]
  },
  {
   "cell_type": "code",
   "execution_count": 5,
   "metadata": {},
   "outputs": [],
   "source": [
    "combined = pd.concat([pd.concat([clean_pd(pd.read_csv(f, encoding='utf-8'), country) \n",
    "                          for f in glob(f'data/{country}/*.csv')]) for country in countries])"
   ]
  },
  {
   "cell_type": "code",
   "execution_count": 6,
   "metadata": {},
   "outputs": [
    {
     "data": {
      "text/plain": [
       "(8789, 35)"
      ]
     },
     "execution_count": 6,
     "metadata": {},
     "output_type": "execute_result"
    }
   ],
   "source": [
    "combined.shape"
   ]
  },
  {
   "cell_type": "code",
   "execution_count": 7,
   "metadata": {},
   "outputs": [],
   "source": [
    "combined.to_csv('data/data.csv', index=False, encoding='utf-8')"
   ]
  },
  {
   "cell_type": "code",
   "execution_count": null,
   "metadata": {},
   "outputs": [],
   "source": []
  }
 ],
 "metadata": {
  "kernelspec": {
   "display_name": "Python 3",
   "language": "python",
   "name": "python3"
  },
  "language_info": {
   "codemirror_mode": {
    "name": "ipython",
    "version": 3
   },
   "file_extension": ".py",
   "mimetype": "text/x-python",
   "name": "python",
   "nbconvert_exporter": "python",
   "pygments_lexer": "ipython3",
   "version": "3.7.4"
  }
 },
 "nbformat": 4,
 "nbformat_minor": 2
}
