{
 "cells": [
  {
   "cell_type": "markdown",
   "metadata": {},
   "source": [
    "## Crawling twitter user data"
   ]
  },
  {
   "cell_type": "markdown",
   "metadata": {},
   "source": [
    "This notebook scrapes the last 500 tweets from each user from different countries"
   ]
  },
  {
   "cell_type": "code",
   "execution_count": 1,
   "metadata": {},
   "outputs": [],
   "source": [
    "import twint  # pip install twint \n",
    "import nest_asyncio # pip install nest_asyncio \n",
    "import json\n",
    "import time\n",
    "nest_asyncio.apply() # prevent event loop to be nested"
   ]
  },
  {
   "cell_type": "code",
   "execution_count": 2,
   "metadata": {},
   "outputs": [],
   "source": [
    "with open('usernames.json') as f:\n",
    "    usernames = json.load(f)"
   ]
  },
  {
   "cell_type": "code",
   "execution_count": 3,
   "metadata": {},
   "outputs": [],
   "source": [
    "def get_config():\n",
    "    # Setting twint config to hide output while crawling and store data to csv\n",
    "    config = twint.Config()\n",
    "    config.Hide_output = True \n",
    "    config.Store_csv = True\n",
    "    return config"
   ]
  },
  {
   "cell_type": "code",
   "execution_count": 4,
   "metadata": {},
   "outputs": [],
   "source": [
    "def get_user_tweets(user, country, limit=0):\n",
    "    c = get_config()\n",
    "    c.Profile_full = True\n",
    "    c.Lang = 'en'\n",
    "    c.Username = f'{user}'\n",
    "    if limit: c.Limit = limit\n",
    "    c.Output = f'../data/{country}/{user}_tweets.csv'\n",
    "    twint.run.Search(c)"
   ]
  },
  {
   "cell_type": "code",
   "execution_count": 5,
   "metadata": {},
   "outputs": [
    {
     "name": "stdout",
     "output_type": "stream",
     "text": [
      "scraping australia\n",
      "scraping belgium\n",
      "scraping canada\n",
      "scraping indonesia\n",
      "scraping malaysia\n",
      "scraping new-zealand\n",
      "scraping singapore\n",
      "scraping united-kingdom\n",
      "scraping united-states\n"
     ]
    }
   ],
   "source": [
    "for country in usernames:\n",
    "    for username in usernames['country']:\n",
    "        get_user_tweets(username, country, limit=50)"
   ]
  },
  {
   "cell_type": "code",
   "execution_count": null,
   "metadata": {},
   "outputs": [],
   "source": []
  }
 ],
 "metadata": {
  "kernelspec": {
   "display_name": "Python 3",
   "language": "python",
   "name": "python3"
  },
  "language_info": {
   "codemirror_mode": {
    "name": "ipython",
    "version": 3
   },
   "file_extension": ".py",
   "mimetype": "text/x-python",
   "name": "python",
   "nbconvert_exporter": "python",
   "pygments_lexer": "ipython3",
   "version": "3.7.4"
  }
 },
 "nbformat": 4,
 "nbformat_minor": 2
}
