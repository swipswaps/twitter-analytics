{
 "cells": [
  {
   "cell_type": "markdown",
   "metadata": {},
   "source": [
    "# Twitter Username Crawler by Countries"
   ]
  },
  {
   "cell_type": "markdown",
   "metadata": {},
   "source": [
    "This notebook uses selenium to scrape twitter username from social bakers"
   ]
  },
  {
   "cell_type": "code",
   "execution_count": 1,
   "metadata": {},
   "outputs": [],
   "source": [
    "from selenium import webdriver\n",
    "from bs4 import BeautifulSoup\n",
    "from time import sleep\n",
    "import time\n",
    "import random\n",
    "import json"
   ]
  },
  {
   "cell_type": "markdown",
   "metadata": {},
   "source": [
    "#### List of countries to scrape"
   ]
  },
  {
   "cell_type": "code",
   "execution_count": 2,
   "metadata": {},
   "outputs": [],
   "source": [
    "countries = [\n",
    "    'australia',\n",
    "    'belgium',\n",
    "    'canada',\n",
    "    'indonesia',\n",
    "    'malaysia',\n",
    "    'new-zealand',\n",
    "    'singapore',\n",
    "    'united-kingdom',\n",
    "    'united-states'\n",
    "]"
   ]
  },
  {
   "cell_type": "code",
   "execution_count": 3,
   "metadata": {},
   "outputs": [],
   "source": [
    "pages = [(i,j) for i,j in zip(list(range(1,97,5)), list(range(6,102,5)))] # [(1,6),(6,11) ... (96,101)"
   ]
  },
  {
   "cell_type": "markdown",
   "metadata": {},
   "source": [
    "#### Using selenium to autofill sign up form for social bakers"
   ]
  },
  {
   "cell_type": "code",
   "execution_count": 4,
   "metadata": {},
   "outputs": [],
   "source": [
    "url = 'https://www.socialbakers.com/statistics/twitter/profiles/singapore'\n",
    "driver = webdriver.Chrome()\n",
    "driver.get(url)\n",
    "elem = driver.find_element_by_xpath('/html/body/div[3]/div[3]/div/section/div[5]/table/tbody/tr[11]/td/div/a')\n",
    "elem.click()\n",
    "sleep(1)\n",
    "elem = driver.find_element_by_xpath('//*[@id=\"frm-showShowMoreMarketoForm-mktoForm-mktoForm-FullName\"]')\n",
    "elem.send_keys(\"james lee\")\n",
    "elem = driver.find_element_by_xpath('//*[@id=\"frm-showShowMoreMarketoForm-mktoForm-mktoForm-Email\"]')\n",
    "elem.send_keys(\"james1234@gmail.com\")\n",
    "elem = driver.find_element_by_xpath('//*[@id=\"frm-showShowMoreMarketoForm-mktoForm-mktoForm-Company\"]')\n",
    "elem.send_keys(\"data company\")\n",
    "elem = driver.find_element_by_xpath('//*[@id=\"frm-showShowMoreMarketoForm-mktoForm-mktoForm\"]/div[6]/input')\n",
    "elem.click()"
   ]
  },
  {
   "cell_type": "code",
   "execution_count": 5,
   "metadata": {},
   "outputs": [],
   "source": [
    "usernames = {country: [] for country in countries} # initialize usernames dictonary"
   ]
  },
  {
   "cell_type": "markdown",
   "metadata": {},
   "source": [
    "#### Using selenium to scrape social bakers"
   ]
  },
  {
   "cell_type": "code",
   "execution_count": 6,
   "metadata": {},
   "outputs": [
    {
     "name": "stdout",
     "output_type": "stream",
     "text": [
      "Scraping australia ... \n",
      "Scraping belgium ... \n",
      "Scraping canada ... \n",
      "Scraping indonesia ... \n",
      "Scraping malaysia ... \n",
      "Scraping new-zealand ... \n",
      "Scraping singapore ... \n",
      "Scraping united-kingdom ... \n",
      "Scraping united-states ... \n",
      "Time taken to run all countries 9.033341697851817 minutes\n"
     ]
    }
   ],
   "source": [
    "sleep(3)\n",
    "before = time.time()\n",
    "for country in countries:\n",
    "    html = []\n",
    "    print(f'Scraping {country} ... ')\n",
    "    for i,j in pages:\n",
    "        url = f'https://www.socialbakers.com/statistics/twitter/profiles/{country}/page-{i}-{j}'\n",
    "        driver.get(url)\n",
    "        html = driver.page_source\n",
    "        soup = BeautifulSoup(html, 'html')\n",
    "        usernames[country].extend([i.text.split()[-1:][0][2:][:-1] for i in list(soup.find('table'))[1].find_all('h2')])\n",
    "        sleep(random.randint(1,2))\n",
    "after = time.time()\n",
    "print(f'Time taken to run all countries {(after-before) / 60} minutes')\n",
    "driver.close()"
   ]
  },
  {
   "cell_type": "markdown",
   "metadata": {},
   "source": [
    "#### Exporting data to JSON"
   ]
  },
  {
   "cell_type": "code",
   "execution_count": 9,
   "metadata": {},
   "outputs": [],
   "source": [
    "with open('usernames.json', 'w') as fp:\n",
    "    json.dump(usernames, fp)"
   ]
  },
  {
   "cell_type": "code",
   "execution_count": null,
   "metadata": {},
   "outputs": [],
   "source": []
  }
 ],
 "metadata": {
  "kernelspec": {
   "display_name": "Python 3",
   "language": "python",
   "name": "python3"
  },
  "language_info": {
   "codemirror_mode": {
    "name": "ipython",
    "version": 3
   },
   "file_extension": ".py",
   "mimetype": "text/x-python",
   "name": "python",
   "nbconvert_exporter": "python",
   "pygments_lexer": "ipython3",
   "version": "3.7.4"
  }
 },
 "nbformat": 4,
 "nbformat_minor": 2
}
