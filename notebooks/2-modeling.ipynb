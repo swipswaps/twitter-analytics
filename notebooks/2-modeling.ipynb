{
 "cells": [
  {
   "cell_type": "markdown",
   "metadata": {},
   "source": [
    "## Modelling and EDA"
   ]
  },
  {
   "cell_type": "code",
   "execution_count": 1,
   "metadata": {},
   "outputs": [],
   "source": [
    "import pandas as pd\n",
    "from sklearn.model_selection import train_test_split\n",
    "from sklearn.feature_extraction.text import TfidfVectorizer\n",
    "from sklearn.ensemble import RandomForestClassifier, ExtraTreesClassifier, GradientBoostingClassifier, AdaBoostClassifier\n",
    "from sklearn.svm import SVC\n",
    "from xgboost import XGBClassifier\n",
    "from sklearn.neighbors import KNeighborsClassifier\n",
    "from sklearn.preprocessing import StandardScaler, LabelEncoder\n",
    "from sklearn.linear_model import LogisticRegression\n",
    "import seaborn as sns\n",
    "import matplotlib.pyplot as plt\n",
    "from sklearn.decomposition import PCA\n",
    "from sklearn.metrics import accuracy_score, confusion_matrix\n",
    "import string\n",
    "import re\n",
    "\n",
    "%matplotlib inline"
   ]
  },
  {
   "cell_type": "code",
   "execution_count": 2,
   "metadata": {},
   "outputs": [],
   "source": [
    "df = pd.read_csv('data/data.csv')"
   ]
  },
  {
   "cell_type": "code",
   "execution_count": 3,
   "metadata": {},
   "outputs": [
    {
     "data": {
      "text/html": [
       "<div>\n",
       "<style scoped>\n",
       "    .dataframe tbody tr th:only-of-type {\n",
       "        vertical-align: middle;\n",
       "    }\n",
       "\n",
       "    .dataframe tbody tr th {\n",
       "        vertical-align: top;\n",
       "    }\n",
       "\n",
       "    .dataframe thead th {\n",
       "        text-align: right;\n",
       "    }\n",
       "</style>\n",
       "<table border=\"1\" class=\"dataframe\">\n",
       "  <thead>\n",
       "    <tr style=\"text-align: right;\">\n",
       "      <th></th>\n",
       "      <th>username</th>\n",
       "      <th>country</th>\n",
       "      <th>region</th>\n",
       "      <th>tweets</th>\n",
       "      <th>0</th>\n",
       "      <th>1</th>\n",
       "      <th>2</th>\n",
       "      <th>3</th>\n",
       "      <th>4</th>\n",
       "      <th>5</th>\n",
       "      <th>...</th>\n",
       "      <th>21</th>\n",
       "      <th>22</th>\n",
       "      <th>23</th>\n",
       "      <th>Monday</th>\n",
       "      <th>Tuesday</th>\n",
       "      <th>Wednesday</th>\n",
       "      <th>Thursday</th>\n",
       "      <th>Friday</th>\n",
       "      <th>Saturday</th>\n",
       "      <th>Sunday</th>\n",
       "    </tr>\n",
       "  </thead>\n",
       "  <tbody>\n",
       "    <tr>\n",
       "      <td>0</td>\n",
       "      <td>electronicalree</td>\n",
       "      <td>belgium</td>\n",
       "      <td>europe</td>\n",
       "      <td>We've just updated our \"Secret Weapons &amp; Gems\"...</td>\n",
       "      <td>64</td>\n",
       "      <td>39</td>\n",
       "      <td>22</td>\n",
       "      <td>28</td>\n",
       "      <td>14</td>\n",
       "      <td>16</td>\n",
       "      <td>...</td>\n",
       "      <td>50</td>\n",
       "      <td>27</td>\n",
       "      <td>37</td>\n",
       "      <td>44</td>\n",
       "      <td>77</td>\n",
       "      <td>71</td>\n",
       "      <td>94</td>\n",
       "      <td>96</td>\n",
       "      <td>86</td>\n",
       "      <td>32</td>\n",
       "    </tr>\n",
       "    <tr>\n",
       "      <td>1</td>\n",
       "      <td>suarezlegroupe</td>\n",
       "      <td>belgium</td>\n",
       "      <td>europe</td>\n",
       "      <td>Good night! #andalusia 🔥 pic.twitter.com/xPtdm...</td>\n",
       "      <td>1</td>\n",
       "      <td>3</td>\n",
       "      <td>6</td>\n",
       "      <td>29</td>\n",
       "      <td>3</td>\n",
       "      <td>1</td>\n",
       "      <td>...</td>\n",
       "      <td>3</td>\n",
       "      <td>2</td>\n",
       "      <td>3</td>\n",
       "      <td>18</td>\n",
       "      <td>9</td>\n",
       "      <td>15</td>\n",
       "      <td>16</td>\n",
       "      <td>15</td>\n",
       "      <td>10</td>\n",
       "      <td>16</td>\n",
       "    </tr>\n",
       "    <tr>\n",
       "      <td>2</td>\n",
       "      <td>twezus</td>\n",
       "      <td>belgium</td>\n",
       "      <td>europe</td>\n",
       "      <td>We need to talk about Rudy. https://www.nieuws...</td>\n",
       "      <td>25</td>\n",
       "      <td>39</td>\n",
       "      <td>43</td>\n",
       "      <td>32</td>\n",
       "      <td>34</td>\n",
       "      <td>52</td>\n",
       "      <td>...</td>\n",
       "      <td>27</td>\n",
       "      <td>32</td>\n",
       "      <td>28</td>\n",
       "      <td>74</td>\n",
       "      <td>104</td>\n",
       "      <td>64</td>\n",
       "      <td>80</td>\n",
       "      <td>78</td>\n",
       "      <td>63</td>\n",
       "      <td>37</td>\n",
       "    </tr>\n",
       "    <tr>\n",
       "      <td>3</td>\n",
       "      <td>focusvif</td>\n",
       "      <td>belgium</td>\n",
       "      <td>europe</td>\n",
       "      <td>Marion Cotillard, profession: actrice https://...</td>\n",
       "      <td>36</td>\n",
       "      <td>32</td>\n",
       "      <td>14</td>\n",
       "      <td>15</td>\n",
       "      <td>17</td>\n",
       "      <td>8</td>\n",
       "      <td>...</td>\n",
       "      <td>44</td>\n",
       "      <td>51</td>\n",
       "      <td>34</td>\n",
       "      <td>84</td>\n",
       "      <td>74</td>\n",
       "      <td>83</td>\n",
       "      <td>76</td>\n",
       "      <td>108</td>\n",
       "      <td>48</td>\n",
       "      <td>27</td>\n",
       "    </tr>\n",
       "    <tr>\n",
       "      <td>4</td>\n",
       "      <td>tuiflybelgium</td>\n",
       "      <td>belgium</td>\n",
       "      <td>europe</td>\n",
       "      <td>For long haul flights we advise you to be at t...</td>\n",
       "      <td>22</td>\n",
       "      <td>16</td>\n",
       "      <td>21</td>\n",
       "      <td>19</td>\n",
       "      <td>12</td>\n",
       "      <td>13</td>\n",
       "      <td>...</td>\n",
       "      <td>33</td>\n",
       "      <td>37</td>\n",
       "      <td>24</td>\n",
       "      <td>72</td>\n",
       "      <td>88</td>\n",
       "      <td>63</td>\n",
       "      <td>79</td>\n",
       "      <td>86</td>\n",
       "      <td>60</td>\n",
       "      <td>52</td>\n",
       "    </tr>\n",
       "  </tbody>\n",
       "</table>\n",
       "<p>5 rows × 35 columns</p>\n",
       "</div>"
      ],
      "text/plain": [
       "          username  country  region  \\\n",
       "0  electronicalree  belgium  europe   \n",
       "1   suarezlegroupe  belgium  europe   \n",
       "2           twezus  belgium  europe   \n",
       "3         focusvif  belgium  europe   \n",
       "4    tuiflybelgium  belgium  europe   \n",
       "\n",
       "                                              tweets   0   1   2   3   4   5  \\\n",
       "0  We've just updated our \"Secret Weapons & Gems\"...  64  39  22  28  14  16   \n",
       "1  Good night! #andalusia 🔥 pic.twitter.com/xPtdm...   1   3   6  29   3   1   \n",
       "2  We need to talk about Rudy. https://www.nieuws...  25  39  43  32  34  52   \n",
       "3  Marion Cotillard, profession: actrice https://...  36  32  14  15  17   8   \n",
       "4  For long haul flights we advise you to be at t...  22  16  21  19  12  13   \n",
       "\n",
       "   ...  21  22  23  Monday  Tuesday  Wednesday  Thursday  Friday  Saturday  \\\n",
       "0  ...  50  27  37      44       77         71        94      96        86   \n",
       "1  ...   3   2   3      18        9         15        16      15        10   \n",
       "2  ...  27  32  28      74      104         64        80      78        63   \n",
       "3  ...  44  51  34      84       74         83        76     108        48   \n",
       "4  ...  33  37  24      72       88         63        79      86        60   \n",
       "\n",
       "   Sunday  \n",
       "0      32  \n",
       "1      16  \n",
       "2      37  \n",
       "3      27  \n",
       "4      52  \n",
       "\n",
       "[5 rows x 35 columns]"
      ]
     },
     "execution_count": 3,
     "metadata": {},
     "output_type": "execute_result"
    }
   ],
   "source": [
    "df.head()"
   ]
  },
  {
   "cell_type": "code",
   "execution_count": 4,
   "metadata": {},
   "outputs": [
    {
     "data": {
      "text/plain": [
       "asia       2857\n",
       "america    1979\n",
       "europe     1978\n",
       "oceania    1975\n",
       "Name: region, dtype: int64"
      ]
     },
     "execution_count": 4,
     "metadata": {},
     "output_type": "execute_result"
    }
   ],
   "source": [
    "df['region'].value_counts()"
   ]
  },
  {
   "cell_type": "code",
   "execution_count": 5,
   "metadata": {},
   "outputs": [
    {
     "data": {
      "text/plain": [
       "united-kingdom    999\n",
       "united-states     998\n",
       "australia         989\n",
       "new-zealand       986\n",
       "canada            981\n",
       "belgium           979\n",
       "malaysia          964\n",
       "indonesia         963\n",
       "singapore         930\n",
       "Name: country, dtype: int64"
      ]
     },
     "execution_count": 5,
     "metadata": {},
     "output_type": "execute_result"
    }
   ],
   "source": [
    "df['country'].value_counts()"
   ]
  },
  {
   "cell_type": "code",
   "execution_count": 6,
   "metadata": {},
   "outputs": [],
   "source": [
    "X = df[[str(i) for i in list(range(24))]]"
   ]
  },
  {
   "cell_type": "code",
   "execution_count": 7,
   "metadata": {},
   "outputs": [],
   "source": [
    "y = df['region']"
   ]
  },
  {
   "cell_type": "markdown",
   "metadata": {},
   "source": [
    "### Heatmap visualizations for different regions"
   ]
  },
  {
   "cell_type": "code",
   "execution_count": 8,
   "metadata": {},
   "outputs": [
    {
     "data": {
      "text/plain": [
       "<matplotlib.axes._subplots.AxesSubplot at 0x12479cf10>"
      ]
     },
     "execution_count": 8,
     "metadata": {},
     "output_type": "execute_result"
    },
    {
     "data": {
      "image/png": "[encoded data removed]",
      "text/plain": [
       "<Figure size 720x576 with 2 Axes>"
      ]
     },
     "metadata": {
      "needs_background": "light"
     },
     "output_type": "display_data"
    }
   ],
   "source": [
    "# Asia\n",
    "plt.figure(figsize=(10,8))\n",
    "sns.heatmap(X[2000:2020])"
   ]
  },
  {
   "cell_type": "code",
   "execution_count": 9,
   "metadata": {},
   "outputs": [
    {
     "data": {
      "text/plain": [
       "<matplotlib.axes._subplots.AxesSubplot at 0x135bf3e50>"
      ]
     },
     "execution_count": 9,
     "metadata": {},
     "output_type": "execute_result"
    },
    {
     "data": {
      "image/png": "[encoded data removed]",
      "text/plain": [
       "<Figure size 720x576 with 2 Axes>"
      ]
     },
     "metadata": {
      "needs_background": "light"
     },
     "output_type": "display_data"
    }
   ],
   "source": [
    "# Europe\n",
    "plt.figure(figsize=(10,8))\n",
    "sns.heatmap(X[:20])"
   ]
  },
  {
   "cell_type": "code",
   "execution_count": 10,
   "metadata": {},
   "outputs": [
    {
     "data": {
      "text/plain": [
       "<matplotlib.axes._subplots.AxesSubplot at 0x136011ed0>"
      ]
     },
     "execution_count": 10,
     "metadata": {},
     "output_type": "execute_result"
    },
    {
     "data": {
      "image/png": "[encoded data removed]",
      "text/plain": [
       "<Figure size 720x576 with 2 Axes>"
      ]
     },
     "metadata": {
      "needs_background": "light"
     },
     "output_type": "display_data"
    }
   ],
   "source": [
    "# America\n",
    "plt.figure(figsize=(10,8))\n",
    "sns.heatmap(X[7000:7020])"
   ]
  },
  {
   "cell_type": "code",
   "execution_count": 11,
   "metadata": {},
   "outputs": [
    {
     "data": {
      "text/plain": [
       "<matplotlib.axes._subplots.AxesSubplot at 0x135fb1110>"
      ]
     },
     "execution_count": 11,
     "metadata": {},
     "output_type": "execute_result"
    },
    {
     "data": {
      "image/png": "[encoded data removed]",
      "text/plain": [
       "<Figure size 720x576 with 2 Axes>"
      ]
     },
     "metadata": {
      "needs_background": "light"
     },
     "output_type": "display_data"
    }
   ],
   "source": [
    "# Oceania\n",
    "plt.figure(figsize=(10,8))\n",
    "sns.heatmap(X[3000:3020])"
   ]
  },
  {
   "cell_type": "markdown",
   "metadata": {},
   "source": [
    "### PCA visualizations"
   ]
  },
  {
   "cell_type": "code",
   "execution_count": 15,
   "metadata": {},
   "outputs": [],
   "source": [
    "COLORS = {'asia': 'red', 'europe': 'blue', 'america': 'green', 'oceania': 'orange'} \n",
    "\n",
    "def scatter(x, colors):\n",
    "    f = plt.figure(figsize=(8, 8))\n",
    "    ax = plt.subplot(aspect='equal')\n",
    "    ax.scatter(\n",
    "        x[(colors=='asia'), 0], \n",
    "        x[(colors=='asia'), 1], \n",
    "        c=COLORS['asia'], \n",
    "        label='Asia', \n",
    "        alpha=0.5\n",
    "    )\n",
    "    ax.scatter(\n",
    "        x[(colors=='europe'), 0], \n",
    "        x[(colors=='europe'), 1], \n",
    "        c=COLORS['europe'], \n",
    "        label='Europe', \n",
    "        alpha=0.5\n",
    "    )\n",
    "    ax.scatter(\n",
    "        x[(colors=='oceania'), 0], \n",
    "        x[(colors=='oceania'), 1], \n",
    "        c=COLORS['oceania'], \n",
    "        label='Oceania', \n",
    "        alpha=0.5\n",
    "    )\n",
    "    ax.scatter(\n",
    "        x[(colors=='america'), 0], \n",
    "        x[(colors=='america'), 1], \n",
    "        c=COLORS['america'], \n",
    "        label='America', \n",
    "        alpha=0.5\n",
    "    )\n",
    "    ax.axes.get_yaxis().set_visible(False)\n",
    "    ax.axes.get_xaxis().set_visible(False)\n",
    "    plt.legend()\n",
    "    return f, ax"
   ]
  },
  {
   "cell_type": "code",
   "execution_count": 16,
   "metadata": {},
   "outputs": [
    {
     "data": {
      "image/png": "[encoded data removed]",
      "text/plain": [
       "<Figure size 576x576 with 1 Axes>"
      ]
     },
     "metadata": {
      "needs_background": "light"
     },
     "output_type": "display_data"
    }
   ],
   "source": [
    "pca = PCA(n_components=2)\n",
    "X_pca = pca.fit_transform(X)\n",
    "f, ax = scatter(X_pca, y)"
   ]
  },
  {
   "cell_type": "markdown",
   "metadata": {},
   "source": [
    "### Train test split"
   ]
  },
  {
   "cell_type": "code",
   "execution_count": 17,
   "metadata": {},
   "outputs": [],
   "source": [
    "X_train, X_test, y_train, y_test = train_test_split(X,y,stratify=y, random_state=42)"
   ]
  },
  {
   "cell_type": "code",
   "execution_count": 18,
   "metadata": {},
   "outputs": [
    {
     "data": {
      "text/plain": [
       "(6591, 24)"
      ]
     },
     "execution_count": 18,
     "metadata": {},
     "output_type": "execute_result"
    }
   ],
   "source": [
    "X_train.shape"
   ]
  },
  {
   "cell_type": "code",
   "execution_count": 19,
   "metadata": {},
   "outputs": [
    {
     "data": {
      "text/html": [
       "<div>\n",
       "<style scoped>\n",
       "    .dataframe tbody tr th:only-of-type {\n",
       "        vertical-align: middle;\n",
       "    }\n",
       "\n",
       "    .dataframe tbody tr th {\n",
       "        vertical-align: top;\n",
       "    }\n",
       "\n",
       "    .dataframe thead th {\n",
       "        text-align: right;\n",
       "    }\n",
       "</style>\n",
       "<table border=\"1\" class=\"dataframe\">\n",
       "  <thead>\n",
       "    <tr style=\"text-align: right;\">\n",
       "      <th></th>\n",
       "      <th>0</th>\n",
       "      <th>1</th>\n",
       "      <th>2</th>\n",
       "      <th>3</th>\n",
       "      <th>4</th>\n",
       "      <th>5</th>\n",
       "      <th>6</th>\n",
       "      <th>7</th>\n",
       "      <th>8</th>\n",
       "      <th>9</th>\n",
       "      <th>...</th>\n",
       "      <th>14</th>\n",
       "      <th>15</th>\n",
       "      <th>16</th>\n",
       "      <th>17</th>\n",
       "      <th>18</th>\n",
       "      <th>19</th>\n",
       "      <th>20</th>\n",
       "      <th>21</th>\n",
       "      <th>22</th>\n",
       "      <th>23</th>\n",
       "    </tr>\n",
       "  </thead>\n",
       "  <tbody>\n",
       "    <tr>\n",
       "      <td>7505</td>\n",
       "      <td>25</td>\n",
       "      <td>30</td>\n",
       "      <td>30</td>\n",
       "      <td>54</td>\n",
       "      <td>46</td>\n",
       "      <td>79</td>\n",
       "      <td>60</td>\n",
       "      <td>23</td>\n",
       "      <td>55</td>\n",
       "      <td>17</td>\n",
       "      <td>...</td>\n",
       "      <td>1</td>\n",
       "      <td>2</td>\n",
       "      <td>0</td>\n",
       "      <td>0</td>\n",
       "      <td>3</td>\n",
       "      <td>2</td>\n",
       "      <td>7</td>\n",
       "      <td>5</td>\n",
       "      <td>15</td>\n",
       "      <td>16</td>\n",
       "    </tr>\n",
       "    <tr>\n",
       "      <td>6244</td>\n",
       "      <td>19</td>\n",
       "      <td>38</td>\n",
       "      <td>49</td>\n",
       "      <td>32</td>\n",
       "      <td>30</td>\n",
       "      <td>30</td>\n",
       "      <td>39</td>\n",
       "      <td>34</td>\n",
       "      <td>42</td>\n",
       "      <td>49</td>\n",
       "      <td>...</td>\n",
       "      <td>9</td>\n",
       "      <td>4</td>\n",
       "      <td>4</td>\n",
       "      <td>0</td>\n",
       "      <td>0</td>\n",
       "      <td>0</td>\n",
       "      <td>12</td>\n",
       "      <td>8</td>\n",
       "      <td>12</td>\n",
       "      <td>17</td>\n",
       "    </tr>\n",
       "    <tr>\n",
       "      <td>1086</td>\n",
       "      <td>19</td>\n",
       "      <td>17</td>\n",
       "      <td>14</td>\n",
       "      <td>13</td>\n",
       "      <td>12</td>\n",
       "      <td>13</td>\n",
       "      <td>14</td>\n",
       "      <td>0</td>\n",
       "      <td>15</td>\n",
       "      <td>32</td>\n",
       "      <td>...</td>\n",
       "      <td>38</td>\n",
       "      <td>24</td>\n",
       "      <td>32</td>\n",
       "      <td>41</td>\n",
       "      <td>24</td>\n",
       "      <td>25</td>\n",
       "      <td>8</td>\n",
       "      <td>17</td>\n",
       "      <td>15</td>\n",
       "      <td>0</td>\n",
       "    </tr>\n",
       "    <tr>\n",
       "      <td>5076</td>\n",
       "      <td>0</td>\n",
       "      <td>0</td>\n",
       "      <td>0</td>\n",
       "      <td>1</td>\n",
       "      <td>0</td>\n",
       "      <td>0</td>\n",
       "      <td>0</td>\n",
       "      <td>5</td>\n",
       "      <td>12</td>\n",
       "      <td>137</td>\n",
       "      <td>...</td>\n",
       "      <td>10</td>\n",
       "      <td>99</td>\n",
       "      <td>10</td>\n",
       "      <td>4</td>\n",
       "      <td>7</td>\n",
       "      <td>13</td>\n",
       "      <td>0</td>\n",
       "      <td>3</td>\n",
       "      <td>1</td>\n",
       "      <td>0</td>\n",
       "    </tr>\n",
       "    <tr>\n",
       "      <td>8368</td>\n",
       "      <td>34</td>\n",
       "      <td>39</td>\n",
       "      <td>36</td>\n",
       "      <td>30</td>\n",
       "      <td>47</td>\n",
       "      <td>24</td>\n",
       "      <td>24</td>\n",
       "      <td>19</td>\n",
       "      <td>2</td>\n",
       "      <td>0</td>\n",
       "      <td>...</td>\n",
       "      <td>3</td>\n",
       "      <td>22</td>\n",
       "      <td>28</td>\n",
       "      <td>30</td>\n",
       "      <td>30</td>\n",
       "      <td>16</td>\n",
       "      <td>26</td>\n",
       "      <td>17</td>\n",
       "      <td>20</td>\n",
       "      <td>43</td>\n",
       "    </tr>\n",
       "    <tr>\n",
       "      <td>...</td>\n",
       "      <td>...</td>\n",
       "      <td>...</td>\n",
       "      <td>...</td>\n",
       "      <td>...</td>\n",
       "      <td>...</td>\n",
       "      <td>...</td>\n",
       "      <td>...</td>\n",
       "      <td>...</td>\n",
       "      <td>...</td>\n",
       "      <td>...</td>\n",
       "      <td>...</td>\n",
       "      <td>...</td>\n",
       "      <td>...</td>\n",
       "      <td>...</td>\n",
       "      <td>...</td>\n",
       "      <td>...</td>\n",
       "      <td>...</td>\n",
       "      <td>...</td>\n",
       "      <td>...</td>\n",
       "      <td>...</td>\n",
       "      <td>...</td>\n",
       "    </tr>\n",
       "    <tr>\n",
       "      <td>2693</td>\n",
       "      <td>25</td>\n",
       "      <td>15</td>\n",
       "      <td>12</td>\n",
       "      <td>8</td>\n",
       "      <td>7</td>\n",
       "      <td>1</td>\n",
       "      <td>1</td>\n",
       "      <td>0</td>\n",
       "      <td>1</td>\n",
       "      <td>0</td>\n",
       "      <td>...</td>\n",
       "      <td>27</td>\n",
       "      <td>24</td>\n",
       "      <td>30</td>\n",
       "      <td>43</td>\n",
       "      <td>32</td>\n",
       "      <td>46</td>\n",
       "      <td>47</td>\n",
       "      <td>30</td>\n",
       "      <td>37</td>\n",
       "      <td>52</td>\n",
       "    </tr>\n",
       "    <tr>\n",
       "      <td>5164</td>\n",
       "      <td>4</td>\n",
       "      <td>0</td>\n",
       "      <td>0</td>\n",
       "      <td>0</td>\n",
       "      <td>2</td>\n",
       "      <td>1</td>\n",
       "      <td>1</td>\n",
       "      <td>12</td>\n",
       "      <td>130</td>\n",
       "      <td>43</td>\n",
       "      <td>...</td>\n",
       "      <td>14</td>\n",
       "      <td>17</td>\n",
       "      <td>22</td>\n",
       "      <td>38</td>\n",
       "      <td>26</td>\n",
       "      <td>11</td>\n",
       "      <td>21</td>\n",
       "      <td>13</td>\n",
       "      <td>9</td>\n",
       "      <td>2</td>\n",
       "    </tr>\n",
       "    <tr>\n",
       "      <td>4313</td>\n",
       "      <td>0</td>\n",
       "      <td>0</td>\n",
       "      <td>2</td>\n",
       "      <td>4</td>\n",
       "      <td>11</td>\n",
       "      <td>8</td>\n",
       "      <td>23</td>\n",
       "      <td>19</td>\n",
       "      <td>25</td>\n",
       "      <td>15</td>\n",
       "      <td>...</td>\n",
       "      <td>7</td>\n",
       "      <td>4</td>\n",
       "      <td>4</td>\n",
       "      <td>4</td>\n",
       "      <td>5</td>\n",
       "      <td>2</td>\n",
       "      <td>1</td>\n",
       "      <td>0</td>\n",
       "      <td>1</td>\n",
       "      <td>0</td>\n",
       "    </tr>\n",
       "    <tr>\n",
       "      <td>4002</td>\n",
       "      <td>0</td>\n",
       "      <td>0</td>\n",
       "      <td>2</td>\n",
       "      <td>15</td>\n",
       "      <td>28</td>\n",
       "      <td>48</td>\n",
       "      <td>59</td>\n",
       "      <td>47</td>\n",
       "      <td>54</td>\n",
       "      <td>49</td>\n",
       "      <td>...</td>\n",
       "      <td>28</td>\n",
       "      <td>18</td>\n",
       "      <td>21</td>\n",
       "      <td>14</td>\n",
       "      <td>7</td>\n",
       "      <td>4</td>\n",
       "      <td>0</td>\n",
       "      <td>0</td>\n",
       "      <td>0</td>\n",
       "      <td>0</td>\n",
       "    </tr>\n",
       "    <tr>\n",
       "      <td>7134</td>\n",
       "      <td>25</td>\n",
       "      <td>29</td>\n",
       "      <td>18</td>\n",
       "      <td>34</td>\n",
       "      <td>22</td>\n",
       "      <td>23</td>\n",
       "      <td>34</td>\n",
       "      <td>25</td>\n",
       "      <td>19</td>\n",
       "      <td>21</td>\n",
       "      <td>...</td>\n",
       "      <td>8</td>\n",
       "      <td>4</td>\n",
       "      <td>12</td>\n",
       "      <td>9</td>\n",
       "      <td>23</td>\n",
       "      <td>20</td>\n",
       "      <td>25</td>\n",
       "      <td>24</td>\n",
       "      <td>21</td>\n",
       "      <td>31</td>\n",
       "    </tr>\n",
       "  </tbody>\n",
       "</table>\n",
       "<p>6591 rows × 24 columns</p>\n",
       "</div>"
      ],
      "text/plain": [
       "       0   1   2   3   4   5   6   7    8    9  ...  14  15  16  17  18  19  \\\n",
       "7505  25  30  30  54  46  79  60  23   55   17  ...   1   2   0   0   3   2   \n",
       "6244  19  38  49  32  30  30  39  34   42   49  ...   9   4   4   0   0   0   \n",
       "1086  19  17  14  13  12  13  14   0   15   32  ...  38  24  32  41  24  25   \n",
       "5076   0   0   0   1   0   0   0   5   12  137  ...  10  99  10   4   7  13   \n",
       "8368  34  39  36  30  47  24  24  19    2    0  ...   3  22  28  30  30  16   \n",
       "...   ..  ..  ..  ..  ..  ..  ..  ..  ...  ...  ...  ..  ..  ..  ..  ..  ..   \n",
       "2693  25  15  12   8   7   1   1   0    1    0  ...  27  24  30  43  32  46   \n",
       "5164   4   0   0   0   2   1   1  12  130   43  ...  14  17  22  38  26  11   \n",
       "4313   0   0   2   4  11   8  23  19   25   15  ...   7   4   4   4   5   2   \n",
       "4002   0   0   2  15  28  48  59  47   54   49  ...  28  18  21  14   7   4   \n",
       "7134  25  29  18  34  22  23  34  25   19   21  ...   8   4  12   9  23  20   \n",
       "\n",
       "      20  21  22  23  \n",
       "7505   7   5  15  16  \n",
       "6244  12   8  12  17  \n",
       "1086   8  17  15   0  \n",
       "5076   0   3   1   0  \n",
       "8368  26  17  20  43  \n",
       "...   ..  ..  ..  ..  \n",
       "2693  47  30  37  52  \n",
       "5164  21  13   9   2  \n",
       "4313   1   0   1   0  \n",
       "4002   0   0   0   0  \n",
       "7134  25  24  21  31  \n",
       "\n",
       "[6591 rows x 24 columns]"
      ]
     },
     "execution_count": 19,
     "metadata": {},
     "output_type": "execute_result"
    }
   ],
   "source": [
    "X_train"
   ]
  },
  {
   "cell_type": "code",
   "execution_count": 20,
   "metadata": {},
   "outputs": [],
   "source": [
    "classifiers = []\n",
    "model1 = XGBClassifier(n_estimators=200, learning_rate=0.05);\n",
    "classifiers.append(model1)\n",
    "model2 = SVC(probability=True);\n",
    "classifiers.append(model2)\n",
    "model3 = AdaBoostClassifier();\n",
    "classifiers.append(model3)\n",
    "model4 = RandomForestClassifier();\n",
    "classifiers.append(model4)\n",
    "model5 = KNeighborsClassifier();\n",
    "classifiers.append(model5)\n",
    "model6 = GradientBoostingClassifier();\n",
    "classifiers.append(model6)\n",
    "model7 = ExtraTreesClassifier();\n",
    "classifiers.append(model7)\n",
    "model8 = LogisticRegression(solver='lbfgs', max_iter=1000);\n",
    "classifiers.append(model8)"
   ]
  },
  {
   "cell_type": "code",
   "execution_count": 21,
   "metadata": {},
   "outputs": [],
   "source": [
    "models = ['XGB','SVM','ADA','RF','KNN','GB','ET','LR']"
   ]
  },
  {
   "cell_type": "code",
   "execution_count": 22,
   "metadata": {},
   "outputs": [
    {
     "name": "stdout",
     "output_type": "stream",
     "text": [
      "XGB accuracy is :0.881255686988171\n",
      "[[440   9  20  26]\n",
      " [  8 664  27  15]\n",
      " [ 32   8 452   3]\n",
      " [ 51  35  27 381]]\n",
      "SVM accuracy is :0.8616924476797089\n",
      "[[430  17  22  26]\n",
      " [  4 641  53  16]\n",
      " [ 35  10 444   6]\n",
      " [ 54  33  28 379]]\n",
      "ADA accuracy is :0.83803457688808\n",
      "[[411  13  37  34]\n",
      " [  8 634  29  43]\n",
      " [ 25  35 417  18]\n",
      " [ 52  39  23 380]]\n",
      "RF accuracy is :0.8885350318471338\n",
      "[[443  11  15  26]\n",
      " [  8 668  26  12]\n",
      " [ 36   8 448   3]\n",
      " [ 45  32  23 394]]\n",
      "KNN accuracy is :0.8585077343039127\n",
      "[[439  10  21  25]\n",
      " [ 18 649  29  18]\n",
      " [ 43  17 431   4]\n",
      " [ 65  36  25 368]]\n",
      "GB accuracy is :0.8826205641492265\n",
      "[[443   7  17  28]\n",
      " [  8 663  22  21]\n",
      " [ 34   9 447   5]\n",
      " [ 52  34  21 387]]\n",
      "ET accuracy is :0.8839854413102821\n",
      "[[445  12  16  22]\n",
      " [ 10 669  26   9]\n",
      " [ 37   8 447   3]\n",
      " [ 51  37  24 382]]\n",
      "LR accuracy is :0.8475887170154686\n",
      "[[405  11  30  49]\n",
      " [  7 636  52  19]\n",
      " [ 35   8 442  10]\n",
      " [ 40  41  33 380]]\n"
     ]
    }
   ],
   "source": [
    "from sklearn.metrics import accuracy_score, confusion_matrix\n",
    "for model,clf in zip(models,classifiers):\n",
    "    clf.fit(X_train, y_train);\n",
    "    y_pred= clf.predict(X_test);\n",
    "    acc = accuracy_score(y_test, y_pred);\n",
    "    print(f\"{model} accuracy is :{acc}\")\n",
    "    cm = confusion_matrix(y_test, y_pred);\n",
    "    print(cm)"
   ]
  },
  {
   "cell_type": "code",
   "execution_count": 23,
   "metadata": {},
   "outputs": [
    {
     "data": {
      "text/plain": [
       "0.9100288271885905"
      ]
     },
     "execution_count": 23,
     "metadata": {},
     "output_type": "execute_result"
    }
   ],
   "source": [
    "xgb = XGBClassifier(n_estimators=200, learning_rate=0.05)\n",
    "xgb.fit(X_train, y_train)\n",
    "xgb.score(X_train,y_train)"
   ]
  },
  {
   "cell_type": "code",
   "execution_count": 24,
   "metadata": {},
   "outputs": [
    {
     "data": {
      "text/plain": [
       "0.881255686988171"
      ]
     },
     "execution_count": 24,
     "metadata": {},
     "output_type": "execute_result"
    }
   ],
   "source": [
    "xgb.score(X_test,y_test)"
   ]
  },
  {
   "cell_type": "code",
   "execution_count": 25,
   "metadata": {},
   "outputs": [],
   "source": [
    "# from joblib import dump\n",
    "\n",
    "# dump(xgb, 'xgb_region.joblib')"
   ]
  },
  {
   "cell_type": "code",
   "execution_count": 32,
   "metadata": {},
   "outputs": [
    {
     "data": {
      "text/plain": [
       "<matplotlib.axes._subplots.AxesSubplot at 0x13e704090>"
      ]
     },
     "execution_count": 32,
     "metadata": {},
     "output_type": "execute_result"
    },
    {
     "data": {
      "image/png": "[encoded data removed]",
      "text/plain": [
       "<Figure size 432x288 with 1 Axes>"
      ]
     },
     "metadata": {
      "needs_background": "light"
     },
     "output_type": "display_data"
    }
   ],
   "source": [
    "pd.Series(model1.predict(X_test)).value_counts().plot(kind='bar') # Predict val counts "
   ]
  },
  {
   "cell_type": "code",
   "execution_count": 243,
   "metadata": {},
   "outputs": [
    {
     "data": {
      "text/plain": [
       "asia       717\n",
       "america    519\n",
       "europe     516\n",
       "oceania    446\n",
       "Name: 0, dtype: int64"
      ]
     },
     "execution_count": 243,
     "metadata": {},
     "output_type": "execute_result"
    }
   ],
   "source": [
    "pd.DataFrame(model1.predict(X_test))[0].value_counts()"
   ]
  },
  {
   "cell_type": "markdown",
   "metadata": {},
   "source": [
    "Asia is the most predicted category and oceania is the least as there are overlapping timezone between these regions"
   ]
  },
  {
   "cell_type": "markdown",
   "metadata": {},
   "source": [
    "### Region prediction with Deep Learning"
   ]
  },
  {
   "cell_type": "code",
   "execution_count": 33,
   "metadata": {},
   "outputs": [
    {
     "name": "stderr",
     "output_type": "stream",
     "text": [
      "Using TensorFlow backend.\n"
     ]
    }
   ],
   "source": [
    "import numpy as np\n",
    "from sklearn.datasets import make_classification, make_regression\n",
    "from sklearn.preprocessing import StandardScaler, LabelEncoder\n",
    "\n",
    "from keras.models import Sequential\n",
    "from keras.layers import Dense\n",
    "from keras.utils import to_categorical\n"
   ]
  },
  {
   "cell_type": "code",
   "execution_count": 34,
   "metadata": {},
   "outputs": [],
   "source": [
    "le = LabelEncoder()\n",
    "y_encoded = le.fit_transform(y) # {0: america, 1:asia, 2:europe, 3:oceania}"
   ]
  },
  {
   "cell_type": "code",
   "execution_count": 35,
   "metadata": {},
   "outputs": [
    {
     "data": {
      "text/plain": [
       "array([[0., 0., 1., 0.],\n",
       "       [0., 0., 1., 0.],\n",
       "       [0., 0., 1., 0.],\n",
       "       [0., 0., 1., 0.],\n",
       "       [0., 0., 1., 0.],\n",
       "       [0., 0., 1., 0.],\n",
       "       [0., 0., 1., 0.],\n",
       "       [0., 0., 1., 0.],\n",
       "       [0., 0., 1., 0.],\n",
       "       [0., 0., 1., 0.]], dtype=float32)"
      ]
     },
     "execution_count": 35,
     "metadata": {},
     "output_type": "execute_result"
    }
   ],
   "source": [
    "y_cat = to_categorical(y_encoded)\n",
    "y_cat[:10]"
   ]
  },
  {
   "cell_type": "code",
   "execution_count": 37,
   "metadata": {},
   "outputs": [],
   "source": [
    "X_train, X_test, y_train, y_test = train_test_split(X,y_cat,stratify=y_encoded, random_state=42)"
   ]
  },
  {
   "cell_type": "code",
   "execution_count": 38,
   "metadata": {},
   "outputs": [],
   "source": [
    "ss = StandardScaler()\n",
    "X_train = ss.fit_transform(X_train)\n",
    "X_test = ss.transform(X_test)"
   ]
  },
  {
   "cell_type": "code",
   "execution_count": 39,
   "metadata": {},
   "outputs": [],
   "source": [
    "model = Sequential()\n",
    "model.add(Dense(32, input_shape=(24,), activation='relu'))\n",
    "model.add(Dense(16))\n",
    "model.add(Dense(4, activation='softmax'))"
   ]
  },
  {
   "cell_type": "code",
   "execution_count": 40,
   "metadata": {},
   "outputs": [
    {
     "name": "stdout",
     "output_type": "stream",
     "text": [
      "Model: \"sequential_1\"\n",
      "_________________________________________________________________\n",
      "Layer (type)                 Output Shape              Param #   \n",
      "=================================================================\n",
      "dense_1 (Dense)              (None, 32)                800       \n",
      "_________________________________________________________________\n",
      "dense_2 (Dense)              (None, 16)                528       \n",
      "_________________________________________________________________\n",
      "dense_3 (Dense)              (None, 4)                 68        \n",
      "=================================================================\n",
      "Total params: 1,396\n",
      "Trainable params: 1,396\n",
      "Non-trainable params: 0\n",
      "_________________________________________________________________\n"
     ]
    }
   ],
   "source": [
    "model.summary()"
   ]
  },
  {
   "cell_type": "code",
   "execution_count": 41,
   "metadata": {},
   "outputs": [],
   "source": [
    "model.compile(loss='categorical_crossentropy', optimizer='adam', metrics=['accuracy'])"
   ]
  },
  {
   "cell_type": "code",
   "execution_count": 42,
   "metadata": {},
   "outputs": [
    {
     "name": "stdout",
     "output_type": "stream",
     "text": [
      "Train on 6591 samples, validate on 2198 samples\n",
      "Epoch 1/20\n",
      "6591/6591 [==============================] - 1s 166us/step - loss: 0.5879 - accuracy: 0.8009 - val_loss: 0.4916 - val_accuracy: 0.8471\n",
      "Epoch 2/20\n",
      "6591/6591 [==============================] - 1s 97us/step - loss: 0.4661 - accuracy: 0.8527 - val_loss: 0.4634 - val_accuracy: 0.8530\n",
      "Epoch 3/20\n",
      "6591/6591 [==============================] - 1s 96us/step - loss: 0.4420 - accuracy: 0.8624 - val_loss: 0.4505 - val_accuracy: 0.8530\n",
      "Epoch 4/20\n",
      "6591/6591 [==============================] - 1s 98us/step - loss: 0.4302 - accuracy: 0.8631 - val_loss: 0.4446 - val_accuracy: 0.8590\n",
      "Epoch 5/20\n",
      "6591/6591 [==============================] - 1s 97us/step - loss: 0.4217 - accuracy: 0.8660 - val_loss: 0.4479 - val_accuracy: 0.8603\n",
      "Epoch 6/20\n",
      "6591/6591 [==============================] - 1s 96us/step - loss: 0.4147 - accuracy: 0.8675 - val_loss: 0.4335 - val_accuracy: 0.8722\n",
      "Epoch 7/20\n",
      "6591/6591 [==============================] - 1s 96us/step - loss: 0.4070 - accuracy: 0.8685 - val_loss: 0.4437 - val_accuracy: 0.8631\n",
      "Epoch 8/20\n",
      "6591/6591 [==============================] - 1s 94us/step - loss: 0.4003 - accuracy: 0.8703 - val_loss: 0.4406 - val_accuracy: 0.8626\n",
      "Epoch 9/20\n",
      "6591/6591 [==============================] - 1s 97us/step - loss: 0.3976 - accuracy: 0.8703 - val_loss: 0.4335 - val_accuracy: 0.8640\n",
      "Epoch 10/20\n",
      "6591/6591 [==============================] - 1s 104us/step - loss: 0.3912 - accuracy: 0.8724 - val_loss: 0.4322 - val_accuracy: 0.8662\n",
      "Epoch 11/20\n",
      "6591/6591 [==============================] - 1s 109us/step - loss: 0.3872 - accuracy: 0.8754 - val_loss: 0.4354 - val_accuracy: 0.8599\n",
      "Epoch 12/20\n",
      "6591/6591 [==============================] - 1s 107us/step - loss: 0.3859 - accuracy: 0.8726 - val_loss: 0.4347 - val_accuracy: 0.8662\n",
      "Epoch 13/20\n",
      "6591/6591 [==============================] - 1s 102us/step - loss: 0.3807 - accuracy: 0.8762 - val_loss: 0.4350 - val_accuracy: 0.8621\n",
      "Epoch 14/20\n",
      "6591/6591 [==============================] - 1s 115us/step - loss: 0.3778 - accuracy: 0.8785 - val_loss: 0.4403 - val_accuracy: 0.8690\n",
      "Epoch 15/20\n",
      "6591/6591 [==============================] - 1s 97us/step - loss: 0.3753 - accuracy: 0.8791 - val_loss: 0.4341 - val_accuracy: 0.8562\n",
      "Epoch 16/20\n",
      "6591/6591 [==============================] - 1s 96us/step - loss: 0.3727 - accuracy: 0.8779 - val_loss: 0.4315 - val_accuracy: 0.8690\n",
      "Epoch 17/20\n",
      "6591/6591 [==============================] - 1s 104us/step - loss: 0.3695 - accuracy: 0.8817 - val_loss: 0.4394 - val_accuracy: 0.8685\n",
      "Epoch 18/20\n",
      "6591/6591 [==============================] - 1s 104us/step - loss: 0.3647 - accuracy: 0.8798 - val_loss: 0.4398 - val_accuracy: 0.8540\n",
      "Epoch 19/20\n",
      "6591/6591 [==============================] - 1s 108us/step - loss: 0.3659 - accuracy: 0.8779 - val_loss: 0.4374 - val_accuracy: 0.8703\n",
      "Epoch 20/20\n",
      "6591/6591 [==============================] - 1s 97us/step - loss: 0.3644 - accuracy: 0.8829 - val_loss: 0.4378 - val_accuracy: 0.8667\n"
     ]
    }
   ],
   "source": [
    "History = model.fit(X_train, y_train, epochs=20, batch_size=8, validation_data=(X_test, y_test))"
   ]
  },
  {
   "cell_type": "code",
   "execution_count": 43,
   "metadata": {},
   "outputs": [
    {
     "data": {
      "text/plain": [
       "<matplotlib.legend.Legend at 0x1c5752f50>"
      ]
     },
     "execution_count": 43,
     "metadata": {},
     "output_type": "execute_result"
    },
    {
     "data": {
      "image/png": "[encoded data removed]",
      "text/plain": [
       "<Figure size 432x288 with 1 Axes>"
      ]
     },
     "metadata": {
      "needs_background": "light"
     },
     "output_type": "display_data"
    }
   ],
   "source": [
    "plt.plot(History.history['loss'], label='Training loss')\n",
    "plt.plot(History.history['val_loss'], label='Validation loss')\n",
    "plt.legend()"
   ]
  },
  {
   "cell_type": "code",
   "execution_count": 44,
   "metadata": {},
   "outputs": [
    {
     "data": {
      "text/plain": [
       "<matplotlib.legend.Legend at 0x1c578d490>"
      ]
     },
     "execution_count": 44,
     "metadata": {},
     "output_type": "execute_result"
    },
    {
     "data": {
      "image/png": "[encoded data removed]",
      "text/plain": [
       "<Figure size 576x432 with 1 Axes>"
      ]
     },
     "metadata": {
      "needs_background": "light"
     },
     "output_type": "display_data"
    }
   ],
   "source": [
    "plt.figure(figsize=(8,6))\n",
    "plt.plot(History.history['accuracy'], label='Training Accuracy')\n",
    "plt.plot(History.history['val_accuracy'], label='Test Accuracy')\n",
    "plt.legend()"
   ]
  },
  {
   "cell_type": "code",
   "execution_count": 61,
   "metadata": {},
   "outputs": [],
   "source": [
    "c_dict = {0: 'america', 1:'asia', 2:'europe', 3:'oceania'}"
   ]
  },
  {
   "cell_type": "code",
   "execution_count": 62,
   "metadata": {},
   "outputs": [
    {
     "data": {
      "text/plain": [
       "{0: 'america', 1: 'asia', 2: 'europe', 3: 'oceania'}"
      ]
     },
     "execution_count": 62,
     "metadata": {},
     "output_type": "execute_result"
    }
   ],
   "source": [
    "c_dict"
   ]
  },
  {
   "cell_type": "code",
   "execution_count": 66,
   "metadata": {},
   "outputs": [],
   "source": [
    "pred_df = pd.DataFrame([[c_dict[list(prob).index(max(prob))], max(prob)] for prob in model.predict(X_test)], \n",
    "             columns=['Region','Probability'])"
   ]
  },
  {
   "cell_type": "code",
   "execution_count": 72,
   "metadata": {},
   "outputs": [
    {
     "data": {
      "text/plain": [
       "<matplotlib.axes._subplots.AxesSubplot at 0x1c5c47c90>"
      ]
     },
     "execution_count": 72,
     "metadata": {},
     "output_type": "execute_result"
    },
    {
     "data": {
      "image/png": "[encoded data removed]",
      "text/plain": [
       "<Figure size 432x288 with 1 Axes>"
      ]
     },
     "metadata": {
      "needs_background": "light"
     },
     "output_type": "display_data"
    }
   ],
   "source": [
    "pred_df['Region'].value_counts().plot(kind='bar')"
   ]
  },
  {
   "cell_type": "markdown",
   "metadata": {},
   "source": [
    "Similar to machine learning techniques"
   ]
  },
  {
   "cell_type": "code",
   "execution_count": 73,
   "metadata": {},
   "outputs": [
    {
     "data": {
      "text/plain": [
       "asia       737\n",
       "america    544\n",
       "europe     503\n",
       "oceania    414\n",
       "Name: Region, dtype: int64"
      ]
     },
     "execution_count": 73,
     "metadata": {},
     "output_type": "execute_result"
    }
   ],
   "source": [
    "pred_df['Region'].value_counts()"
   ]
  },
  {
   "cell_type": "markdown",
   "metadata": {},
   "source": [
    "## Country Prediction"
   ]
  },
  {
   "cell_type": "markdown",
   "metadata": {},
   "source": [
    "Cleaning tweets"
   ]
  },
  {
   "cell_type": "code",
   "execution_count": 116,
   "metadata": {},
   "outputs": [],
   "source": [
    "with open('data/stopwords.txt') as f:\n",
    "    stopwords = {line.rstrip('\\n') for line in f if '#' not in line}"
   ]
  },
  {
   "cell_type": "code",
   "execution_count": 118,
   "metadata": {},
   "outputs": [],
   "source": [
    "\n",
    "def remove_pattern(input_txt, pattern):\n",
    "    r = re.findall(pattern, input_txt)\n",
    "    for i in r:\n",
    "        input_txt = re.sub(i, '', input_txt)        \n",
    "    return input_txt\n",
    "\n",
    "def remove_url(text):\n",
    "    r = [w for w in text.split() if 'pictwittercom' in w]\n",
    "    for i in r:\n",
    "        text = re.sub(i, '', text)\n",
    "    return text\n",
    "\n",
    "def clean_tweet(text):\n",
    "    text.encode(\"ascii\", \"ignore\").decode(\"ascii\") # remove emoji\n",
    "    text = remove_pattern(text, \"@[\\w]*\")  # Remove @mentions\n",
    "    text = re.sub(r'http[s]{0,1}://[^\\s]*', '', text) # remove http websites\n",
    "    text = text.replace('\\n',' ') # replace \\n\n",
    "    text = text.replace('\\xa0', ' ')\n",
    "    text = text.translate(str.maketrans('', '', string.punctuation)) # remove punctuation\n",
    "    text = remove_url(text) \n",
    "    text = [t.lower() for t in text.split()] # lower case\n",
    "    text = [w for w in text if w not in stopwords] # remove stopwords\n",
    "    return \" \".join(text)\n"
   ]
  },
  {
   "cell_type": "code",
   "execution_count": 119,
   "metadata": {},
   "outputs": [],
   "source": [
    "df['clean_tweets'] = df['tweets'].map(clean_tweet)"
   ]
  },
  {
   "cell_type": "code",
   "execution_count": 120,
   "metadata": {},
   "outputs": [],
   "source": [
    "tfidf_vectorizer = TfidfVectorizer(max_features=500)\n",
    "X = tfidf_vectorizer.fit_transform(df['clean_tweets'])"
   ]
  },
  {
   "cell_type": "code",
   "execution_count": 121,
   "metadata": {},
   "outputs": [],
   "source": [
    "y = df['country']"
   ]
  },
  {
   "cell_type": "code",
   "execution_count": 122,
   "metadata": {},
   "outputs": [],
   "source": [
    "X_train, X_test, y_train, y_test = train_test_split(X,y,stratify=y, random_state=42)"
   ]
  },
  {
   "cell_type": "code",
   "execution_count": 123,
   "metadata": {},
   "outputs": [],
   "source": [
    "classifiers = []\n",
    "model1 = XGBClassifier(n_estimators=200, learning_rate=0.05);\n",
    "classifiers.append(model1)\n",
    "model2 = SVC(probability=True);\n",
    "classifiers.append(model2)\n",
    "model3 = AdaBoostClassifier();\n",
    "classifiers.append(model3)\n",
    "model4 = RandomForestClassifier();\n",
    "classifiers.append(model4)\n",
    "model5 = KNeighborsClassifier();\n",
    "classifiers.append(model5)\n",
    "model6 = GradientBoostingClassifier();\n",
    "classifiers.append(model6)\n",
    "model7 = ExtraTreesClassifier();\n",
    "classifiers.append(model7)\n",
    "model8 = LogisticRegression(solver='lbfgs', max_iter=1000);\n",
    "classifiers.append(model8)"
   ]
  },
  {
   "cell_type": "code",
   "execution_count": 124,
   "metadata": {},
   "outputs": [],
   "source": [
    "models = ['XGB','SVM','ADA','RF','KNN','GB','ET','LR']"
   ]
  },
  {
   "cell_type": "code",
   "execution_count": 125,
   "metadata": {},
   "outputs": [
    {
     "name": "stdout",
     "output_type": "stream",
     "text": [
      "XGB accuracy is :0.8248407643312102\n",
      "[[194   6   6   0   0  11   4  13  13]\n",
      " [  4 209   9   0   2   3   5   9   4]\n",
      " [  6  17 171   3   2   1   3   8  34]\n",
      " [  0   6   1 217  10   0   2   0   5]\n",
      " [  1  11   4  20 193   1   5   3   3]\n",
      " [ 12   6   1   0   0 223   0   3   2]\n",
      " [  2   8   2   4   9   1 202   2   2]\n",
      " [ 11   6   6   3   0   4   6 201  13]\n",
      " [ 12   8  14   2   1   3   0   7 203]]\n",
      "SVM accuracy is :0.7907188353048226\n",
      "[[169   9  14   0   3  15   5  13  19]\n",
      " [  5 209   4   6   5   3   5   5   3]\n",
      " [  5  17 155   4   5   3   5  11  40]\n",
      " [  0   2   3 217  12   0   4   0   3]\n",
      " [  1   3   8  27 183   1   9   4   5]\n",
      " [ 12   4   4   3   2 215   3   3   1]\n",
      " [  1  10   9   5   8   5 185   0   9]\n",
      " [ 10   9   6   3   3   3   2 197  17]\n",
      " [  6   4  16   7   0   4   1   4 208]]\n",
      "ADA accuracy is :0.7252047315741583\n",
      "[[171   8   4   0   3  22  10  17  12]\n",
      " [  4 197   8   2   4   5   7  12   6]\n",
      " [  9  27 138   4   1   4   4  23  35]\n",
      " [  2   8   2 181  36   0   6   0   6]\n",
      " [  2  10   2  24 180   0  14   7   2]\n",
      " [ 14   5   0   0   0 211   0  12   5]\n",
      " [  2  10   0   5  26   4 174   7   4]\n",
      " [ 29  12   6   6   0   4   5 168  20]\n",
      " [ 21   8  20   2   1   4   1  19 174]]\n",
      "RF accuracy is :0.8048225659690628\n",
      "[[186   1   9   2   2   9  11  11  16]\n",
      " [  6 201   5   2   5   3   8  10   5]\n",
      " [  9  14 159   5   5   1   7   9  36]\n",
      " [  0   5   2 219  11   0   1   0   3]\n",
      " [  0   7   4  30 186   1  11   1   1]\n",
      " [ 12   3   0   1   2 220   4   3   2]\n",
      " [  3  11   2   3   7   1 200   1   4]\n",
      " [ 12   9   9   3   2   7   4 193  11]\n",
      " [ 14   4  11   2   2   4   2   6 205]]\n",
      "KNN accuracy is :0.5727934485896269\n",
      "[[142  13  24   2   7  12   3  29  15]\n",
      " [ 19 176   6  10  10   7   9   6   2]\n",
      " [ 28  31 104  10   2   7  10  19  34]\n",
      " [  4  18   7 189  10   2   5   3   3]\n",
      " [ 10  26  20  45 111   2  13   5   9]\n",
      " [ 28  16  15  10   4 154   8   7   5]\n",
      " [  9  31  13  12  11  20 125   5   6]\n",
      " [ 42  20  22   4   4  10   1 129  18]\n",
      " [ 25  14  48   9   2   3   2  18 129]]\n",
      "GB accuracy is :0.816196542311192\n",
      "[[196   4   4   0   0  11   5  16  11]\n",
      " [  5 201   7   1   3   4   8  10   6]\n",
      " [  9  16 171   0   4   4   2   8  31]\n",
      " [  1   5   4 212  14   0   2   0   3]\n",
      " [  0   9   8  19 192   0   8   3   2]\n",
      " [ 13   1   1   1   0 228   0   2   1]\n",
      " [  1   5   4   4  10   3 202   1   2]\n",
      " [ 13   6  11   3   0   6   8 193  10]\n",
      " [ 17   6  13   2   2   3   0   8 199]]\n",
      "ET accuracy is :0.7661510464058234\n",
      "[[172   3   4   2   2  18  11  19  16]\n",
      " [  2 195   4   7   7   6  11   8   5]\n",
      " [  5  13 135   6   9   7   8  21  41]\n",
      " [  1   4   5 216   8   0   4   0   3]\n",
      " [  0   7   4  39 169   2  10   3   7]\n",
      " [ 10   4   2   3   1 218   3   4   2]\n",
      " [  0   8   6   6   8   4 189   5   6]\n",
      " [  8   7  11   6   6   4   2 189  17]\n",
      " [  7   5  21   5   1   4   2   4 201]]\n",
      "LR accuracy is :0.7975432211101001\n",
      "[[175   5  12   3   0  12   5  17  18]\n",
      " [  4 208   8   4   3   3   7   5   3]\n",
      " [  5  14 154   5   4   2   7  13  41]\n",
      " [  0   4   3 215  12   0   4   0   3]\n",
      " [  1   6   2  26 188   1   7   4   6]\n",
      " [  8   3   0   5   1 218   1   7   4]\n",
      " [  2   7   8   3  11   5 186   2   8]\n",
      " [  4   8   2   5   3   5   1 206  16]\n",
      " [  8   4  17   6   1   4   0   7 203]]\n"
     ]
    }
   ],
   "source": [
    "from sklearn.metrics import accuracy_score, confusion_matrix\n",
    "for model,clf in zip(models,classifiers):\n",
    "    clf.fit(X_train, y_train);\n",
    "    y_pred= clf.predict(X_test);\n",
    "    acc = accuracy_score(y_test, y_pred);\n",
    "    print(f\"{model} accuracy is :{acc}\")\n",
    "    cm = confusion_matrix(y_test, y_pred);\n",
    "    print(cm)"
   ]
  },
  {
   "cell_type": "code",
   "execution_count": null,
   "metadata": {},
   "outputs": [],
   "source": []
  },
  {
   "cell_type": "markdown",
   "metadata": {},
   "source": [
    "### Sentiment Analysis"
   ]
  },
  {
   "cell_type": "code",
   "execution_count": 269,
   "metadata": {},
   "outputs": [],
   "source": [
    "import json\n",
    "\n",
    "with open('sia.json','r') as f:\n",
    "    data = json.load(f)"
   ]
  },
  {
   "cell_type": "code",
   "execution_count": 271,
   "metadata": {},
   "outputs": [
    {
     "data": {
      "text/plain": [
       "'I love you, keep going!'"
      ]
     },
     "execution_count": 271,
     "metadata": {},
     "output_type": "execute_result"
    }
   ],
   "source": [
    "data['tweets'][0]['tweet']"
   ]
  },
  {
   "cell_type": "code",
   "execution_count": 264,
   "metadata": {},
   "outputs": [],
   "source": [
    "from vaderSentiment.vaderSentiment import SentimentIntensityAnalyzer\n",
    "analyzer = SentimentIntensityAnalyzer()\n",
    "res = [analyzer.polarity_scores(t)['compound'] for t in eur['clean_tweets'][:5]]"
   ]
  },
  {
   "cell_type": "code",
   "execution_count": 265,
   "metadata": {},
   "outputs": [
    {
     "data": {
      "text/plain": [
       "[1.0, 0.992, 0.9978, 0.9516, 1.0]"
      ]
     },
     "execution_count": 265,
     "metadata": {},
     "output_type": "execute_result"
    }
   ],
   "source": [
    "res"
   ]
  },
  {
   "cell_type": "code",
   "execution_count": 279,
   "metadata": {},
   "outputs": [
    {
     "name": "stdout",
     "output_type": "stream",
     "text": [
      "I love you, keep going!\n",
      "{'neg': 0.0, 'neu': 0.4, 'pos': 0.6, 'compound': 0.6696}\n",
      "\n",
      "Sia x @bts_twt are taking over! New remix of 🔛 from #MapOfTheSoul7 out now  https://ibighit.com/bts  🎶💫 - Team Sia pic.twitter.com/Z2GZcYwwHb\n",
      "{'neg': 0.0, 'neu': 1.0, 'pos': 0.0, 'compound': 0.0}\n",
      "\n",
      "#ProtectMillions Every day in Cambodia, Indonesia and Vietnam, pet dogs and cats are stolen from loving families, leaving their owners desperate for their return. Please sign the #petition from @fourpawsint to end the dog and cat meat trade  http://bit.ly/end-dog-cat-meat-trade-SEA … - Team Sia\n",
      "{'neg': 0.113, 'neu': 0.76, 'pos': 0.127, 'compound': 0.1779}\n",
      "\n",
      "I have a few features coming up but am focused on my movie which is now due for release Sept, it's a musical so after I promote that I'll put out a new album.\n",
      "I have two waiting to go!\n",
      "{'neg': 0.0, 'neu': 0.81, 'pos': 0.19, 'compound': 0.8181}\n",
      "\n",
      "Dude. It was genius I can't believe I just found it.\n",
      "I've told all my friends!!\n",
      "{'neg': 0.0, 'neu': 0.779, 'pos': 0.221, 'compound': 0.5696}\n",
      "\n",
      "You are not annoying.\n",
      "I love you.\n",
      "{'neg': 0.35, 'neu': 0.416, 'pos': 0.235, 'compound': -0.2755}\n",
      "\n",
      "I love you, keep going!\n",
      "{'neg': 0.0, 'neu': 0.4, 'pos': 0.6, 'compound': 0.6696}\n",
      "\n",
      "I feel like we could vacation together and never get bored or annoyed.\n",
      "When I have a partner, LET'S DO IT!\n",
      "{'neg': 0.117, 'neu': 0.675, 'pos': 0.207, 'compound': 0.2514}\n",
      "\n",
      "If you live in Assembly District 51 vote for Seamus Garrity for Central Committee. \n",
      "\n",
      "These neighborhoods:\n",
      "East Los Angeles\n",
      "Los Angeles – 8.9%\n",
      "Chinatown\n",
      "Cypress Park\n",
      "Eagle Rock\n",
      "Echo Park – partial\n",
      "El Sereno\n",
      "Glassell Park\n",
      "Highland Park\n",
      "Lincoln Heights\n",
      "Montecito Heights\n",
      "Silver Lake\n",
      "{'neg': 0.0, 'neu': 1.0, 'pos': 0.0, 'compound': 0.0}\n",
      "\n",
      "Weird city on @youtube originals is my new favorite show!!!!\n",
      "{'neg': 0.123, 'neu': 0.577, 'pos': 0.301, 'compound': 0.5374}\n",
      "\n",
      "Love is in the air with Team Sia's Ear Candy on @Spotify 💕  https://spoti.fi/33MBfMM   - Team Sia pic.twitter.com/cumzhxFnfW\n",
      "{'neg': 0.0, 'neu': 0.802, 'pos': 0.198, 'compound': 0.6369}\n",
      "\n",
      "Heart eyes for days 😍 use the code ILOVEYOU for 20% off on  https://shop.siamusic.net  now! - Team Sia pic.twitter.com/PDjY6uvF3Q\n",
      "{'neg': 0.0, 'neu': 0.859, 'pos': 0.141, 'compound': 0.5093}\n",
      "\n",
      "@thesweetassasin please contact me if you're ever in LA! \n",
      "David@crushmusic.com I'm excited to taste your genius!\n",
      "Love Sia. 💘\n",
      "{'neg': 0.0, 'neu': 0.655, 'pos': 0.345, 'compound': 0.8585}\n",
      "\n",
      "Time to let your voice be heard to save dogs & cats in California's shelters! 🐱🐶  http://bit.ly/CAforAll  #CaliforniaForAllDogsandCats - Team Sia pic.twitter.com/leIFivZvzA\n",
      "{'neg': 0.0, 'neu': 0.845, 'pos': 0.155, 'compound': 0.5411}\n",
      "\n",
      "Tomorrow represents having freedom over our bodies & to tell our own stories. Watch, share & stand up for abortion access - #OursToTell is a new short film from @PPFA @AbortionStories:  http://ourstotell.org  #ROEvWADE - Team Sia pic.twitter.com/8CfDssB1Mu\n",
      "{'neg': 0.0, 'neu': 0.824, 'pos': 0.176, 'compound': 0.7506}\n",
      "\n",
      "Hey! Where the fuck have I been?!!!I’m watching Kathy Griffin: A Hell of a Story. Check it out now on Prime Video! https://watch.amazon.com/detail?asin=B07VVWGC85&territory=US&ref_=share_ios_movie&r=web …\n",
      "{'neg': 0.348, 'neu': 0.652, 'pos': 0.0, 'compound': -0.8917}\n",
      "\n",
      "@ChrisSapphire hello sweetie.\n",
      "Please DM Me so I can help your momma with her dental work, and fix that window.\n",
      "❤\n",
      "{'neg': 0.0, 'neu': 0.68, 'pos': 0.32, 'compound': 0.8166}\n",
      "\n",
      "@ShubhamGoel4635 I loved you every step of the way.\n",
      "{'neg': 0.0, 'neu': 0.642, 'pos': 0.358, 'compound': 0.5994}\n",
      "\n",
      "@USMAN84kg \n",
      "Very nice meeting you tonight, I screamed my lungs out for you last month! Amazing fight!\n",
      "{'neg': 0.201, 'neu': 0.492, 'pos': 0.307, 'compound': 0.554}\n",
      "\n",
      "An apology to @kathygriffin for not publicly supporting her over the last three years.\n",
      "I support you and I'm sorry I didn't shout it from the rooftops sooner. \n",
      "Only love.\n",
      "{'neg': 0.106, 'neu': 0.661, 'pos': 0.233, 'compound': 0.6591}\n",
      "\n",
      "Please donate if you can. Every penny helps! - Team Sia #HumaneSocietyInternational https://twitter.com/HSIGlobal/status/1215706512544411648 …\n",
      "{'neg': 0.0, 'neu': 0.658, 'pos': 0.342, 'compound': 0.636}\n",
      "\n",
      "It’s time to stand up and sing - new “Original” (from @DolittleMovie) lyric video out now!  https://youtu.be/epvRvotlZg0  - Team Sia pic.twitter.com/sBcAw8JxTk\n",
      "{'neg': 0.0, 'neu': 1.0, 'pos': 0.0, 'compound': 0.0}\n",
      "\n",
      "Also, any podcast recommendations?\n",
      "{'neg': 0.0, 'neu': 1.0, 'pos': 0.0, 'compound': 0.0}\n",
      "\n",
      "Hey @cityofbevhills & @wehocity I'm happy to pay for upgrades to the log cabin to bring it up to code, and also to start the process of declaring it an historical landmark. Saved my life. Least I can do. #thelogcabin\n",
      "{'neg': 0.032, 'neu': 0.787, 'pos': 0.181, 'compound': 0.7506}\n",
      "\n",
      "The doctor is in! Sia's song \"Original\" from @DolittleMovie is out today  https://sia.lnk.to/original  + catch the film in theaters beginning January 17th #DolittleMovie - Team Sia pic.twitter.com/rfRlEmuKfC\n",
      "{'neg': 0.0, 'neu': 1.0, 'pos': 0.0, 'compound': 0.0}\n",
      "\n",
      "New songs added to Team Sia's Ear Candy on @Spotify to keep you busy all January long! 🎧🎶  https://spoti.fi/2FuiML6  - Team Sia pic.twitter.com/rVhLTXrkEv\n",
      "{'neg': 0.0, 'neu': 1.0, 'pos': 0.0, 'compound': 0.0}\n",
      "\n",
      "Please consider donating to one of the organizations listed below. #Australia needs our help 💔 - Team Sia pic.twitter.com/ElYYvJPsht\n",
      "{'neg': 0.129, 'neu': 0.664, 'pos': 0.207, 'compound': 0.2263}\n",
      "\n",
      "But wait - how do we get a @promobot for Sia ASAP?! #PromoBot  https://promo-bot.ai  - Team Sia 🤖\n",
      "{'neg': 0.0, 'neu': 1.0, 'pos': 0.0, 'compound': 0.0}\n",
      "\n",
      "Please share and help if you can 🙏🏻 - Team Sia http://gf.me/u/w5n2w7 \n",
      "{'neg': 0.0, 'neu': 0.625, 'pos': 0.375, 'compound': 0.7351}\n",
      "\n",
      "Check out @CHRIS_Daughtry’s cover of “Alive” by Sia! - Team Sia ⭐️⭐️⭐️\n",
      " https://music.apple.com/us/album/alive-single/1491418752 … https://twitter.com/PopCrave/status/1208398569880862721 …\n",
      "{'neg': 0.0, 'neu': 1.0, 'pos': 0.0, 'compound': 0.0}\n",
      "\n",
      "In honor of the animal lover in your life, give a symbolic gift from the @BestFriends Catalog of Kindness. Each purchase honors someone special with a gift of care and healing to animals waiting for loving homes:  http://bit.ly/BFKindnessT19 . #SaveThemAll - Team Sia 🐶❤️🐶\n",
      "{'neg': 0.0, 'neu': 0.518, 'pos': 0.482, 'compound': 0.9816}\n",
      "\n",
      "P.S. Don't furr-get to give the dogs in your life a special gift this season - new peanut & jelly treats are in the webstore now  http://bit.ly/36HiwUu  💝 - Team Sia pic.twitter.com/RggnvbPcnq\n",
      "{'neg': 0.0, 'neu': 0.833, 'pos': 0.167, 'compound': 0.6808}\n",
      "\n",
      "Puppies are forever 🐶❤️ please adopt, don't shop this holiday season  https://youtu.be/KvV4ArzDiBE  - Team Sia\n",
      "{'neg': 0.0, 'neu': 0.607, 'pos': 0.393, 'compound': 0.729}\n",
      "\n",
      "@alexvolkanovski ozzy ozzy ozzy oy oy oy! That was incredible tonight I hope you heard me through the opposition, I wanted you to know I was there for you!\n",
      "{'neg': 0.0, 'neu': 0.878, 'pos': 0.122, 'compound': 0.5399}\n",
      "\n",
      "Make sure you’re on the nice list this year… 🎅  https://youtu.be/V3EYjVPRClU  - Team Sia\n",
      "{'neg': 0.0, 'neu': 0.702, 'pos': 0.298, 'compound': 0.6249}\n",
      "\n",
      "It's always a good time for Everyday Is Christmas! 🎄🎅  https://sia.lnk.to/EverydayIsXmas  - Team Sia pic.twitter.com/9pz2lTzn17\n",
      "{'neg': 0.0, 'neu': 0.79, 'pos': 0.21, 'compound': 0.4926}\n",
      "\n",
      "This short film #DividedWeFall from #MichaelDouglas & @representus shows us all how to be a part of the change to #UnrigTheSystem - Team Sia https://twitter.com/representus/status/1204049112854863875 …\n",
      "{'neg': 0.0, 'neu': 1.0, 'pos': 0.0, 'compound': 0.0}\n",
      "\n",
      "Baby Yoda Knows - Team Sia #EverydayIsChristmas pic.twitter.com/hkHWvMIevB\n",
      "{'neg': 0.0, 'neu': 1.0, 'pos': 0.0, 'compound': 0.0}\n",
      "\n",
      "Have yourself a merry little Christmas with new Sia holiday merch! 🎄🎄 https://shop.siamusic.net  - Team Sia pic.twitter.com/qT065R9yEr\n",
      "{'neg': 0.0, 'neu': 0.667, 'pos': 0.333, 'compound': 0.7574}\n",
      "\n",
      "Turn on the sweet sounds of Team Sia's Ear Candy - just updated on @Spotify! 🍬  https://spoti.fi/33MBfMM  - Team Sia pic.twitter.com/4jvdDei0wL\n",
      "{'neg': 0.0, 'neu': 0.845, 'pos': 0.155, 'compound': 0.5093}\n",
      "\n",
      "Everyday Is Christmas with this festive new Instagram Effect! ❤️☃️  http://bit.ly/2RheXjG  - Team Sia pic.twitter.com/tP3jom49yA\n",
      "{'neg': 0.0, 'neu': 0.774, 'pos': 0.226, 'compound': 0.5848}\n",
      "\n",
      "RIP lick lick science. What a shitty month.\n",
      "I'll love you forever and ever my little snuggle man, hairy slug, lover to all. You were by far one of the only people I trusted in this world and your love was unquestionable. Here's you and me back in the day. pic.twitter.com/LERsOaObqk\n",
      "{'neg': 0.057, 'neu': 0.7, 'pos': 0.243, 'compound': 0.9136}\n",
      "\n",
      ".@Labrinth's new album 'Imagination & the Misfit Kid' featuring the new track \"Oblivion\" w/ Sia, is out today! 🦋✨  https://smarturl.it/Labrinth-Imagination … - Team Sia pic.twitter.com/dvA4JmkVqf\n",
      "{'neg': 0.0, 'neu': 1.0, 'pos': 0.0, 'compound': 0.0}\n",
      "\n",
      "Getting into the holiday spirit with a new line of tie dye shirts & Christmas merch on  http://shop.siamusic.net ! 🎄 - Team Sia pic.twitter.com/YCEVTLPJAp\n",
      "{'neg': 0.0, 'neu': 0.802, 'pos': 0.198, 'compound': 0.5707}\n",
      "\n",
      "To my dearest friend and manager of fifteen years, I couldn't be happier for you on your wedding day, I love you so very much. You've been a mother, father, brother and a son to me. @17days pic.twitter.com/5nf5TTlKDk\n",
      "{'neg': 0.063, 'neu': 0.685, 'pos': 0.251, 'compound': 0.849}\n",
      "\n",
      "Making the season bright with Candy Cane Lane, Everyday Is Christmas, Santa's Coming For Us & Snowman on @YouTubeMusic's All I Want For Christmas Is Pop!  🎄  https://sia.lnk.to/AIWFCIP  - Team Sia pic.twitter.com/DFdLM1qwPJ\n",
      "{'neg': 0.0, 'neu': 0.862, 'pos': 0.138, 'compound': 0.5411}\n",
      "\n",
      "Babe, @celinedion you totally killed our songs, I love you so much, thanks for including me in your process! QWEEEEEN!\n",
      "{'neg': 0.167, 'neu': 0.556, 'pos': 0.277, 'compound': 0.4887}\n",
      "\n",
      "😊 aww thanks and shucks and that was so special for me.\n",
      "You are amazoid!\n",
      "{'neg': 0.0, 'neu': 0.542, 'pos': 0.458, 'compound': 0.9133}\n",
      "\n",
      "Ok I stoled some of @johnlegend 's grammys 😬🤡😎😬\n",
      "{'neg': 0.0, 'neu': 0.761, 'pos': 0.239, 'compound': 0.296}\n",
      "\n",
      "Oh dear @johnlegend and @chrissyteigen I super dooper love you, your children, your politics and...um... Your grammys...byeeeeee pic.twitter.com/pcGCvd2fKl\n",
      "{'neg': 0.0, 'neu': 0.567, 'pos': 0.433, 'compound': 0.8934}\n",
      "\n",
      "Check out all the Sia-penned smashes, including \"Lying Down,\" \"Baby\" & \"Heart of Glass\" from @CelineDion's new album #Courage, on Siafied! 🔥  https://spoti.fi/2NRtIr3  - Team Sia pic.twitter.com/dU12CTzDxW\n",
      "{'neg': 0.209, 'neu': 0.791, 'pos': 0.0, 'compound': -0.7263}\n",
      "\n",
      "Featuring 3 brand new Sia-penned songs, OUT NOW! - Team Sia https://twitter.com/celinedion/status/1195344828168654849 …\n",
      "{'neg': 0.0, 'neu': 1.0, 'pos': 0.0, 'compound': 0.0}\n",
      "\n",
      "Sia features on the new album from @labrinth - out 11/22 - Team Sia 🦋\n",
      "#repost @labrinth\n",
      "・・・\n",
      "Imagination & the Misfit Kid is out 11/22 🦋  https://www.instagram.com/p/B4xeMQAgEH4/?igshid=1rlitmi1uicm8 …\n",
      "{'neg': 0.0, 'neu': 1.0, 'pos': 0.0, 'compound': 0.0}\n",
      "\n",
      "This podcast is by far my favorite. https://podcasts.apple.com/us/podcast/meditation-x-attachment-with-george-haas/id1125066071 …\n",
      "{'neg': 0.0, 'neu': 0.7, 'pos': 0.3, 'compound': 0.4588}\n",
      "\n",
      "WOW x 2 🍑 🤩 #SiaTattoo - Team Sia https://twitter.com/O0Rocker0O/status/1193040241881305088 …\n",
      "{'neg': 0.0, 'neu': 0.57, 'pos': 0.43, 'compound': 0.6739}\n",
      "\n",
      "WOW 🤩 #SiaTattoo - Team Sia https://twitter.com/roadtogypsylove/status/1193100115373785088 …\n",
      "{'neg': 0.0, 'neu': 0.524, 'pos': 0.476, 'compound': 0.6739}\n",
      "\n",
      "I love you, keep going!\n",
      "{'neg': 0.0, 'neu': 0.4, 'pos': 0.6, 'compound': 0.6696}\n",
      "\n",
      "This my favorite so far.\n",
      "Here is one I've bought so far... pic.twitter.com/hXx56PTlBW\n",
      "{'neg': 0.0, 'neu': 0.8, 'pos': 0.2, 'compound': 0.4588}\n",
      "\n",
      "Hilariously, I'm looking for a couple massive chandeliers, preferably ceramic blobby or globular, sculptural.. If you're an artist and think I'd like your stuff please respond with a photo or website!\n",
      "{'neg': 0.0, 'neu': 0.841, 'pos': 0.159, 'compound': 0.6239}\n",
      "\n",
      "@UfcPereira wow I'm completely gobsmacked by your moves! I can't wait to see you live somewhere!!\n",
      "{'neg': 0.0, 'neu': 0.75, 'pos': 0.25, 'compound': 0.6884}\n",
      "\n",
      "I figured I'd let you know that my greatest fear was pantera dying. I never imagined I would get through it without relapsing or joining him. The night he died,in the wee hours your messages and old photos helped me through it, sober and alive. You should know that. Thank you. 🙏\n",
      "{'neg': 0.055, 'neu': 0.786, 'pos': 0.159, 'compound': 0.7269}\n",
      "\n",
      "Love after lockup gives me life's\n",
      "I've literally never seen dirtier hair. \n",
      "Thank you regular humans for reminding me how regular I am allowed to be.\n",
      "{'neg': 0.0, 'neu': 0.716, 'pos': 0.284, 'compound': 0.8288}\n",
      "\n",
      "Wow @kyndalinskeep you are super amazing, I love you keep going! https://m.youtube.com/watch?v=352CFDOQrKg&ebc=ANyPxKrfD-1jR29EfgcssWHHTnZlCQ2xw5iemStv4QIH51jdBn5WN2Y5V-YbBQfErNfdQC8I5XST6cYVgAc7CYMc-kYg61NAFQ …\n",
      "{'neg': 0.0, 'neu': 0.304, 'pos': 0.696, 'compound': 0.9516}\n",
      "\n",
      "Team Sia's Ear Candy on @Spotify is here to keep you warm on those chilly November nights! 🍂 New songs added from @Labrinth, @DUALIPA, @celinedion, @lizzo & more 🍬  https://spoti.fi/2WyVXNU  - Team Sia pic.twitter.com/wiWhXtqQGQ\n",
      "{'neg': 0.078, 'neu': 0.869, 'pos': 0.053, 'compound': -0.2244}\n",
      "\n",
      "I feel your pain. ❤\n",
      "{'neg': 0.452, 'neu': 0.548, 'pos': 0.0, 'compound': -0.5106}\n",
      "\n",
      "Wow, it sounds like you are doing incredible stuff.\n",
      "I'm doing emdr and idealized parent figure protocol developed by Dan Brown at Harvard. Attachment repair. \n",
      "I'd love the PDF! David@crushmusic.com \n",
      "Thanks so much for writing!\n",
      "{'neg': 0.0, 'neu': 0.604, 'pos': 0.396, 'compound': 0.9583}\n",
      "\n",
      "God bless you for finding these photos!\n",
      "{'neg': 0.0, 'neu': 0.491, 'pos': 0.509, 'compound': 0.636}\n",
      "\n",
      "RIP pantera marvelous furler.\n",
      "You were my first born furry and you saved my life.\n",
      "You'll be sorely missed.\n",
      "It was the best sixteen years of my life. pic.twitter.com/GJDh7qiNOS\n",
      "{'neg': 0.058, 'neu': 0.656, 'pos': 0.286, 'compound': 0.8658}\n",
      "\n",
      "The @ASPCA has been on the ground assisting animals impacted by the Kincade wildfire that has devastated Northern California. Please consider supporting their fire relief efforts by visiting  http://aspca.org/CaliforniaFires  #CAwildfires - Team Sia\n",
      "{'neg': 0.153, 'neu': 0.647, 'pos': 0.199, 'compound': 0.2263}\n",
      "\n",
      "Happy Halloween 🎃 👻 🍬 from @OscarFrenchie and everyone at #TeamSia  https://www.instagram.com/p/B4Sd_Z4gWwT/?igshid=1iy628gn8vz71 …\n",
      "{'neg': 0.144, 'neu': 0.625, 'pos': 0.231, 'compound': 0.34}\n",
      "\n",
      "It's not.\n",
      "But another little cutie.\n",
      "{'neg': 0.0, 'neu': 0.64, 'pos': 0.36, 'compound': 0.4235}\n",
      "\n",
      "Thanks so much! Words can't express my gratitude.\n",
      "{'neg': 0.227, 'neu': 0.504, 'pos': 0.268, 'compound': 0.1255}\n",
      "\n",
      "He's sixteen.\n",
      "He's still my little baby though!\n",
      "{'neg': 0.0, 'neu': 1.0, 'pos': 0.0, 'compound': 0.0}\n",
      "\n",
      "God bless you\n",
      "{'neg': 0.0, 'neu': 0.169, 'pos': 0.831, 'compound': 0.5994}\n",
      "\n",
      "I gotchu\n",
      "{'neg': 0.0, 'neu': 1.0, 'pos': 0.0, 'compound': 0.0}\n",
      "\n",
      "Yes please\n",
      "{'neg': 0.0, 'neu': 0.0, 'pos': 1.0, 'compound': 0.6124}\n",
      "\n",
      "Yes please\n",
      "{'neg': 0.0, 'neu': 0.0, 'pos': 1.0, 'compound': 0.6124}\n",
      "\n",
      "Pantera.\n",
      "My first born furry.\n",
      "{'neg': 0.0, 'neu': 1.0, 'pos': 0.0, 'compound': 0.0}\n",
      "\n",
      "RTing and Pinning this from #TeamSia ❤️ https://twitter.com/Sia/status/1189606342048116736 …\n",
      "{'neg': 0.0, 'neu': 1.0, 'pos': 0.0, 'compound': 0.0}\n",
      "\n",
      "I'm not having much luck finding a mobile vet or vet tech who is available to come to my house to give fluids or tell me it's time for fire hydrant heaven. If any one would be willing to help I'm in Los Angeles and I don't want to move him unnecessarily.\n",
      "{'neg': 0.107, 'neu': 0.788, 'pos': 0.105, 'compound': 0.2259}\n",
      "\n",
      "Thanks legend\n",
      "{'neg': 0.0, 'neu': 0.256, 'pos': 0.744, 'compound': 0.4404}\n",
      "\n",
      "Anyone know a mobile vet or vet assistant who can come give my dog fluids at home?\n",
      "He has pancreatitis. Poor baby. \n",
      "Los Angeles presently.\n",
      "{'neg': 0.119, 'neu': 0.881, 'pos': 0.0, 'compound': -0.4767}\n",
      "\n",
      "Cool documentary on @PrimeVideo called \"the pacifist\" if you're interested.\n",
      "{'neg': 0.0, 'neu': 0.615, 'pos': 0.385, 'compound': 0.6124}\n",
      "\n",
      "This is actually for something else I have, called crps type 2\n",
      "{'neg': 0.0, 'neu': 1.0, 'pos': 0.0, 'compound': 0.0}\n",
      "\n",
      "I've been doing IV ketamine for two years to varied success.\n",
      "{'neg': 0.0, 'neu': 0.73, 'pos': 0.27, 'compound': 0.5719}\n",
      "\n",
      "I'm actually on that, but this is for crps type 2' not EDS and the crps is killing me lately\n",
      "{'neg': 0.243, 'neu': 0.757, 'pos': 0.0, 'compound': -0.7964}\n",
      "\n",
      "Yes I am on neurontin\n",
      "{'neg': 0.0, 'neu': 0.526, 'pos': 0.474, 'compound': 0.4019}\n",
      "\n",
      "I'm on it presently, and tapering off opioids as we know they aren't good long term for crps2 , I've been doing massive IV ketamine doses for the last few weeks but that seems to have stopped working on the crps2 ..\n",
      "{'neg': 0.094, 'neu': 0.906, 'pos': 0.0, 'compound': -0.4684}\n",
      "\n",
      "Haha I was at Kim's and North is a huge fan and I had my hair in a side pony and saint thought I was JoJo and by God was I flattered he thought I was 17!!!\n",
      "{'neg': 0.0, 'neu': 0.655, 'pos': 0.345, 'compound': 0.9037}\n",
      "\n",
      "For any pain doctors or Neurologists : have any of you read any data on kratom and it's effect on neuropathic pain long term? Taken at lowest effective dose?\n",
      "I can't find any studies myself but have read anecdotally it's very effective.\n",
      "{'neg': 0.128, 'neu': 0.734, 'pos': 0.138, 'compound': 0.3527}\n",
      "\n",
      "LAST CHANCE! Transform into Sia this Halloween, all while supporting @TrevorProject ❤️🎃  http://bit.ly/2nofeEW  - Team Sia pic.twitter.com/eHSOS5h80v\n",
      "{'neg': 0.0, 'neu': 0.703, 'pos': 0.297, 'compound': 0.7118}\n",
      "\n",
      "I love you, keep going!\n",
      "{'neg': 0.0, 'neu': 0.4, 'pos': 0.6, 'compound': 0.6696}\n",
      "\n",
      "@4LOVofScience can you help me? I'm suffering and totally game. If you're feeling compassionate please email David@crushmusic.com  he will put us in touch.\n",
      "{'neg': 0.101, 'neu': 0.584, 'pos': 0.315, 'compound': 0.6808}\n",
      "\n",
      "Together with #Subaru you can help #MakeADogsDay! Please consider adopting an Underdog & learn more on  http://Subaru.com/pets   https://youtu.be/RvY-wWLnmu4  ❤️🐶❤️ - Team Sia\n",
      "{'neg': 0.0, 'neu': 0.773, 'pos': 0.227, 'compound': 0.6476}\n",
      "\n",
      "One more day to bid on the one-of-a-kind @carebears designed with Sia! 100% of the proceeds benefit @care, helping in the fight for bright & successful future of girls everywhere 💖  http://ebay.com/care  #FightwithCARE - Team Sia pic.twitter.com/Xx6HuIuVRc\n",
      "{'neg': 0.055, 'neu': 0.638, 'pos': 0.306, 'compound': 0.8955}\n",
      "\n",
      "Trick or treat 🎃 Halloween is almost here! Complete your costume with a Sig wig + bow, available in the webstore now  http://bit.ly/2nofeEW  👻 - Team Sia pic.twitter.com/ef0m5vKuVr\n",
      "{'neg': 0.133, 'neu': 0.772, 'pos': 0.095, 'compound': 0.126}\n",
      "\n",
      "@chancetherapper jae ham so sweet.\n",
      "If he and his brother need an LA momma hit me up.\n",
      "{'neg': 0.0, 'neu': 0.805, 'pos': 0.195, 'compound': 0.5949}\n",
      "\n",
      "A beautiful moving sweet funny love story \"keep the change\" on @amazon Prime.\n",
      "So darling. Extraordinary performances and so heart warming.\n",
      "❤\n",
      "{'neg': 0.0, 'neu': 0.435, 'pos': 0.565, 'compound': 0.9672}\n",
      "\n",
      "Sia's spreading the love with @carebears! 💫💕 In honor of #DayoftheGirl, bid on this one-of-a-kind bear designed with Sia. ✨ All proceeds benefit @CARE to help in the fight for bright & successful futures of girls everywhere!  http://ebay.com/care  - Team Sia pic.twitter.com/dLeq7f1165\n",
      "{'neg': 0.045, 'neu': 0.559, 'pos': 0.396, 'compound': 0.9642}\n",
      "\n",
      "My assistant is so kind he bought me balloons with his OWN money to lift my spirits. I am so lucky to have such thoughtful wonderful people in my life who know I would deff want the poop emoji balloon! pic.twitter.com/lKa95DxfzR\n",
      "{'neg': 0.0, 'neu': 0.682, 'pos': 0.318, 'compound': 0.942}\n",
      "\n",
      "Signing off! \n",
      "Thanks for being so lovely.\n",
      "💗\n",
      "{'neg': 0.0, 'neu': 0.374, 'pos': 0.626, 'compound': 0.8761}\n",
      "\n",
      "Yes, I am not bipolar 2 as previously diagnosed. The correct diagnosis was complex PTSD.\n",
      "{'neg': 0.0, 'neu': 0.816, 'pos': 0.184, 'compound': 0.4019}\n",
      "\n",
      "Not presently. 😕\n",
      "{'neg': 0.0, 'neu': 0.605, 'pos': 0.395, 'compound': 0.2411}\n",
      "\n",
      "Haha\n",
      "{'neg': 0.0, 'neu': 0.0, 'pos': 1.0, 'compound': 0.4588}\n",
      "\n",
      "I am. It stopped working. I also have a benign tumor in my pituitary gland. Just a bit of extra prolactin but not boobmilk levels 😇 #blessed\n",
      "{'neg': 0.215, 'neu': 0.73, 'pos': 0.055, 'compound': -0.5886}\n",
      "\n",
      "Thanks so much. ❤\n",
      "{'neg': 0.0, 'neu': 0.58, 'pos': 0.42, 'compound': 0.4404}\n",
      "\n",
      "Oh yeah, herniated c6-7 c4-5 and cubitle tunnel syndrome.\n",
      "no STDs, which frankly, is miraculous given my twenties. so... Plenty of people suffering more than me. At least I have resources. I really feel for those struggling w/the healthcare system. KEEP GOING!\n",
      "{'neg': 0.18, 'neu': 0.773, 'pos': 0.047, 'compound': -0.7345}\n",
      "\n",
      "If you'd like more information it's neuralgia caused by a routine surgery three years ago. My TSH is also 29, it's supposed to be below 4, so I'm severely hypothyroid. I'm also taking time off to do intensive therapy on Complex PTSD. Turns out my bipolar 2 diagnosis was wrong.\n",
      "{'neg': 0.118, 'neu': 0.835, 'pos': 0.046, 'compound': -0.5965}\n",
      "\n",
      "@omekongo thank you 🙏\n",
      "{'neg': 0.0, 'neu': 0.615, 'pos': 0.385, 'compound': 0.3612}\n",
      "\n",
      "Thank you Henry, I've tried to send you love a bunch of times but I'm realizing you don't text or you gave me your home phone number. I'd like more of you in my life. ❤\n",
      "{'neg': 0.0, 'neu': 0.78, 'pos': 0.22, 'compound': 0.7935}\n",
      "\n",
      "Just to clarify, I have a neurological disease AND ehlers danlos. EDS isn't a neurological disease. \n",
      "😍 sorry for the confusion.\n",
      "{'neg': 0.249, 'neu': 0.751, 'pos': 0.0, 'compound': -0.6098}\n",
      "\n",
      "@KevinHart4real love you.\n",
      "💕\n",
      "{'neg': 0.0, 'neu': 0.488, 'pos': 0.512, 'compound': 0.6369}\n",
      "\n",
      "I just saw “John Leguizamo's Latin History for Morons” live, but it's on Netflix too! Watch it! It's beautiful and important! https://www.netflix.com/title/80225421?s=i …\n",
      "{'neg': 0.0, 'neu': 0.693, 'pos': 0.307, 'compound': 0.8565}\n",
      "\n",
      "Hey, I'm suffering with chronic pain, a neurological disease, ehlers danlos and I just wanted to say to those of you suffering from pain, whether physical or emotional, I love you, keep going. Life is fucking hard. Pain is demoralizing, and you're not alone.\n",
      "{'neg': 0.314, 'neu': 0.555, 'pos': 0.131, 'compound': -0.8893}\n",
      "\n",
      "October has arrived 🎃🎃 Kick off the month w/ some fresh songs on Team Sia's Ear Candy on @Spotify (including music from @CelineDion, @rosaliavt, @LykkeLi, @KimPetras + more)! 🎶  https://spoti.fi/2oiMgWN  - Team Sia pic.twitter.com/kB1FaeRN9v\n",
      "{'neg': 0.0, 'neu': 0.925, 'pos': 0.075, 'compound': 0.3802}\n",
      "\n",
      "Hallowig is upon us! Dress up as Sia this year & grab your official wig w/ bow in the webstore now  http://bit.ly/2nofeEW  - Team Sia pic.twitter.com/quM4UGTCz5\n",
      "{'neg': 0.0, 'neu': 1.0, 'pos': 0.0, 'compound': 0.0}\n",
      "\n",
      "the first best day of my life. pic.twitter.com/QJVY0Kv60k\n",
      "{'neg': 0.0, 'neu': 0.625, 'pos': 0.375, 'compound': 0.6369}\n",
      "\n",
      "dear @maddieziegler you are the kindest most down to earth, egoless stupendously smart and silly little big I could ever have dreamed to godmother, collaborate and co-regulate with.\n",
      "I miss you and can't wait till you're back so I can prank you in non PTSD inducing ways! ❤❤❤ pic.twitter.com/XwgZe9eBfQ\n",
      "{'neg': 0.032, 'neu': 0.835, 'pos': 0.133, 'compound': 0.6239}\n",
      "\n",
      "Sia having her #Mariah moment at #HeartsOfGold for the @LALGBTCenter -  backstage with some @KylieJenner @CHANEL and specially cut finger foods to her liking.  😂😂😂 - Team Sia pic.twitter.com/Azp5dSgEPg\n",
      "{'neg': 0.07, 'neu': 0.839, 'pos': 0.091, 'compound': 0.1531}\n",
      "\n",
      "I love you, keep going!\n",
      "{'neg': 0.0, 'neu': 0.4, 'pos': 0.6, 'compound': 0.6696}\n",
      "\n",
      "@brandontlee hey! You seem so great and level headed and I love that you love animals! Thanks for making reality TV not totally toxic! 💘\n",
      "{'neg': 0.0, 'neu': 0.558, 'pos': 0.442, 'compound': 0.9608}\n",
      "\n",
      "The @ASPCA has been on the ground evacuating animals in the path of #HurricaneDorian. Please consider supporting their relief efforts by visiting  http://ASPCA.org/HurricaneHelp  - Team Sia ❤️🐶❤️\n",
      "{'neg': 0.0, 'neu': 0.735, 'pos': 0.265, 'compound': 0.8074}\n",
      "\n",
      "You're only human.\n",
      "Forgive yourself!\n",
      "{'neg': 0.0, 'neu': 0.626, 'pos': 0.374, 'compound': 0.3382}\n",
      "\n",
      "Scooby-Dooby-Doo! Sia's running from ghosts with the gang tomorrow on Scooby-Doo and Guess Who? on @BoomerangToons 👻  http://www.boomerang.com  - Team Sia pic.twitter.com/9ISbRQAQ9t\n",
      "{'neg': 0.115, 'neu': 0.885, 'pos': 0.0, 'compound': -0.3802}\n",
      "\n",
      "Now is your chance to own one of #Sia’s iconic looks! Bid now on this custom #Armani 2 piece, and help everyone at @MFPLA ❤️ check it out here:  https://www.charitybuzz.com/catalog_items/sias-custom-armani-outfit-1850800 … - Team Sia\n",
      "{'neg': 0.0, 'neu': 0.857, 'pos': 0.143, 'compound': 0.6114}\n",
      "\n",
      "LA fans! Get your tickets for the @LALGBTCenter ‘Hearts Of Gold’ celebration on September 21st, featuring Sia & many more:  http://bit.ly/33lRBg7  🏳️‍🌈 - Team Sia pic.twitter.com/TRRSP43MjG\n",
      "{'neg': 0.0, 'neu': 1.0, 'pos': 0.0, 'compound': 0.0}\n",
      "\n",
      "Calling a friend. 😍 co regulation / connection is the solution. \n",
      "Prozac didn't hurt. Love you kiddo.\n",
      "{'neg': 0.122, 'neu': 0.47, 'pos': 0.408, 'compound': 0.785}\n",
      "\n",
      "I love you, keep going!\n",
      "{'neg': 0.0, 'neu': 0.4, 'pos': 0.6, 'compound': 0.6696}\n",
      "\n",
      "LGBTQ youth! Share your story & take the @GLSEN National School Climate Survey - your responses help to create inclusive schools across the country:  http://glsen.org/survey  🌈❤️- Team Sia pic.twitter.com/kwIOcNCgdt\n",
      "{'neg': 0.0, 'neu': 0.767, 'pos': 0.233, 'compound': 0.7424}\n",
      "\n",
      "So nice to make new friends!  https://www.instagram.com/p/B0cemZLAo0c/?igshid=p0zbze4ob5l6 …\n",
      "{'neg': 0.0, 'neu': 0.435, 'pos': 0.565, 'compound': 0.7569}\n",
      "\n",
      "See you tonight #FujiRock - Team Sia 🇯🇵⭐️🏳️‍🌈\n",
      "{'neg': 0.0, 'neu': 1.0, 'pos': 0.0, 'compound': 0.0}\n",
      "\n",
      "Congratulations to director @DanoCerny, choreographer #RyanHeffington and SFX designer #EthanChancer on their #VMA nominations for #LSD’s #NoNewFriends ⭐️⭐️⭐️⭐️⭐️ - Team Sia\n",
      "{'neg': 0.0, 'neu': 0.83, 'pos': 0.17, 'compound': 0.5994}\n",
      "\n",
      "please consider never eating bacon again mipigcafe 🐖 @ Mipig +cafe  https://www.instagram.com/p/B0PZc3HA0pZ/?igshid=7zhu8ucnhc5k …\n",
      "{'neg': 0.0, 'neu': 0.813, 'pos': 0.187, 'compound': 0.3182}\n",
      "\n",
      "Hot off the press ✨🎀 new limited edition @fujirock_jp merch up in the webstore now!  https://shop.siamusic.net  - Team Sia pic.twitter.com/vxQWHdjoXS\n",
      "{'neg': 0.109, 'neu': 0.891, 'pos': 0.0, 'compound': -0.2942}\n",
      "\n",
      "Do you believe in aliens? 👽 \n",
      "\n",
      "Does Sia?\n",
      "\n",
      "Checkout  http://mastheadmagazine.com/sia  and find out! - Team Sia #mastheadmagazine @Mastheadonline\n",
      "{'neg': 0.0, 'neu': 1.0, 'pos': 0.0, 'compound': 0.0}\n",
      "\n",
      "Stay connected with #MarcoPoloApp - check it out here! - Team Sia 👫👬👭👨‍👩‍👧‍👦👨‍👩‍👦‍👦👨‍👨‍👦👩‍👩‍👧 https://twitter.com/MarcoPoloApp/status/1151895918645399554 …\n",
      "{'neg': 0.0, 'neu': 1.0, 'pos': 0.0, 'compound': 0.0}\n",
      "\n",
      "Listen today! - Team Sia https://twitter.com/hearluminary/status/1150057293939007490 …\n",
      "{'neg': 0.0, 'neu': 1.0, 'pos': 0.0, 'compound': 0.0}\n",
      "\n",
      "#Luminary will share this episode this coming week - we’ll make sure to let you know once it’s live! - Team Sia https://twitter.com/Sia/status/1147652787678806016 …\n",
      "{'neg': 0.0, 'neu': 0.799, 'pos': 0.201, 'compound': 0.5848}\n",
      "\n",
      "I love you, keep going.\n",
      "{'neg': 0.0, 'neu': 0.417, 'pos': 0.583, 'compound': 0.6369}\n",
      "\n",
      "Sia joins @lenadunham and Alissa Bennett on their podcast #TheCWord to discuss Miranda Grosvenor, the woman behind the seductive voice that captivated some of Hollywood’s most influential men. Listen to this episode & more on @hearluminary👂- Team Sia http://bit.ly/TheCWordPodcast \n",
      "{'neg': 0.0, 'neu': 0.861, 'pos': 0.139, 'compound': 0.6997}\n",
      "\n",
      "For the swift fans trying to make out that I would ever do blackface please see this video. I was painting myself into the backdrop, it was a pre cursor to the wig... https://youtu.be/-OAWqXdmBNM \n",
      "{'neg': 0.0, 'neu': 0.876, 'pos': 0.124, 'compound': 0.4767}\n",
      "\n",
      "You're a good kind man @scooterbraun I hope this passes quickly.\n",
      "I love you keep going.\n",
      "{'neg': 0.0, 'neu': 0.402, 'pos': 0.598, 'compound': 0.9246}\n",
      "\n",
      "Seven continents, all unique. Your first look at David Attenborough’s next series This is Seven Worlds, One Planet featuring the song \"Out There\" by Sia & @HansZimmer 🌍 - Team Sia pic.twitter.com/eh0jIx1oVR\n",
      "{'neg': 0.0, 'neu': 1.0, 'pos': 0.0, 'compound': 0.0}\n",
      "\n",
      "Turn it up ✨🎶 Heaven Can Wait (@theastonshuffle remix) is spinning now on @Spotify's Mint playlist!  https://smarturl.it/LSDAstonShuffleRmx … @diplo @labrinth - Team Sia pic.twitter.com/RgmLxLSdup\n",
      "{'neg': 0.0, 'neu': 0.854, 'pos': 0.146, 'compound': 0.5562}\n",
      "\n",
      "Only a few days left of #PrideMonth! Support @TrevorProject & grab your hat in the webstore now 💕  https://shop.siamusic.net  - Team Sia pic.twitter.com/tltA00iRXf\n",
      "{'neg': 0.0, 'neu': 0.87, 'pos': 0.13, 'compound': 0.4574}\n",
      "\n",
      "For all parents https://youtu.be/605qufO1n_U \n",
      "{'neg': 0.0, 'neu': 1.0, 'pos': 0.0, 'compound': 0.0}\n",
      "\n",
      "Scooby-Doo And Guess Who? starts streaming on @BoomerangToons June 27 - and Sia meets the gang on September 5! - Team Sia #ScoobyDooGuessWho pic.twitter.com/kPkidvCY8S\n",
      "{'neg': 0.0, 'neu': 1.0, 'pos': 0.0, 'compound': 0.0}\n",
      "\n",
      "For Mac ❤️ -  the new @eightyocho song \"That's Life\" ft. @MacMiller & Sia  https://88-Keys.lnk.to/thatslife  - Team Sia pic.twitter.com/xuzOZCf0mz\n",
      "{'neg': 0.0, 'neu': 1.0, 'pos': 0.0, 'compound': 0.0}\n",
      "\n",
      "#PrideMonth is still going strong! Don't forget to pick up your hat in the webstore to support @TrevorProject  https://shop.siamusic.net  - Team Sia pic.twitter.com/LjK7r2qqBi\n",
      "{'neg': 0.0, 'neu': 0.705, 'pos': 0.295, 'compound': 0.7881}\n",
      "\n",
      "so I'm sick, and Maddie recorded me snoring, and Eddie made this SICK jam out of it.\n",
      "#stillhipwiththekidsohyeah https://twitter.com/Sia/status/1139592416015482881 …\n",
      "{'neg': 0.33, 'neu': 0.67, 'pos': 0.0, 'compound': -0.8544}\n",
      "\n",
      "two savants one city ✌🏻  https://www.instagram.com/p/ByoqGJ3AaBY/?igshid=4p467qmszxag …\n",
      "{'neg': 0.0, 'neu': 0.738, 'pos': 0.262, 'compound': 0.4939}\n",
      "\n",
      "Never forget. #Pulse 🏳️‍🌈 - Team Sia https://youtu.be/GKSRyLdjsPA \n",
      "{'neg': 0.0, 'neu': 0.808, 'pos': 0.192, 'compound': 0.1695}\n",
      "\n",
      "If you eat a nose booger whilst intermittent fasting, does it break the fast? - asking for a friend-\n",
      "{'neg': 0.0, 'neu': 0.824, 'pos': 0.176, 'compound': 0.4939}\n",
      "\n",
      "Show off your pride ❤️🌈 new hat in the webstore now - all proceeds go to @TrevorProject  https://shop.siamusic.net  - Team Sia pic.twitter.com/DxNSRQJR9k\n",
      "{'neg': 0.0, 'neu': 0.888, 'pos': 0.112, 'compound': 0.34}\n",
      "\n",
      "@robkardashian so looking forward to meeting you!\n",
      "{'neg': 0.0, 'neu': 1.0, 'pos': 0.0, 'compound': 0.0}\n",
      "\n",
      "I adore you and the comittee you collaborate with in your brain. And muz. And the alcoholic baby. I can't get enough!!!!\n",
      "{'neg': 0.0, 'neu': 0.799, 'pos': 0.201, 'compound': 0.6973}\n",
      "\n",
      "I CANNOT believe this, but wait for it.... Khloe gifted it to me after I begged her via text message.\n",
      "That shit is the Mona Lisa in five hundred years. I can't believe I own 'the kourt'!\n",
      "{'neg': 0.14, 'neu': 0.86, 'pos': 0.0, 'compound': -0.7345}\n",
      "\n",
      "This is the best story.\n",
      "{'neg': 0.0, 'neu': 0.488, 'pos': 0.512, 'compound': 0.6369}\n",
      "\n",
      "Let's hire this kid! @17days unless you are super child and that would make me a terrible person employing child labor...\n",
      "THESE SHOULD BE ON THE WEBSITE!\n",
      "{'neg': 0.098, 'neu': 0.76, 'pos': 0.142, 'compound': 0.3365}\n",
      "\n",
      "My Favey Labby doo da or @Labrinth  just put out this beauty, so. Dang. Beautiful. https://www.youtube.com/watch?v=nwnh1d9i5s4 …\n",
      "{'neg': 0.0, 'neu': 0.617, 'pos': 0.383, 'compound': 0.8651}\n",
      "\n",
      "Trailer for #DragonSpringPhoenixRise, a kung fu musical featuring songs by Sia remixed by @haxan_cloak and @arca1000000. At @theshedny June 22 – July 27 - Team Sia  http://bit.ly/dragonspring  pic.twitter.com/X8EBtLplQy\n",
      "{'neg': 0.164, 'neu': 0.836, 'pos': 0.0, 'compound': -0.6908}\n",
      "\n",
      "🌈 Celebrate pride & support @trevorproject w/ this new hat in the webstore! ✨ https://shop.siamusic.net/  - Team Sia pic.twitter.com/PdCP4YzZkj\n",
      "{'neg': 0.0, 'neu': 0.533, 'pos': 0.467, 'compound': 0.8858}\n",
      "\n",
      "Time for some Sia at the Cinema on @Spotify 🎥  https://spoti.fi/2QCSqv9  - Team Sia pic.twitter.com/eCpaEG2uDP\n",
      "{'neg': 0.0, 'neu': 1.0, 'pos': 0.0, 'compound': 0.0}\n",
      "\n",
      "Happy birthday 🎈🎂🎉💝 \n",
      "Yes, sleep now.\n",
      "{'neg': 0.0, 'neu': 0.385, 'pos': 0.615, 'compound': 0.7506}\n",
      "\n",
      "Gospel and Motown are probably my favorite genre.\n",
      "I'm non secular but I'd be down to use the word God as an all inclusive vibe.\n",
      "{'neg': 0.0, 'neu': 0.832, 'pos': 0.168, 'compound': 0.5647}\n",
      "\n",
      "Wet dog by me pic.twitter.com/8rg8DCOG5C\n",
      "{'neg': 0.0, 'neu': 1.0, 'pos': 0.0, 'compound': 0.0}\n",
      "\n",
      "I gotchu. 😍\n",
      "{'neg': 0.0, 'neu': 0.571, 'pos': 0.429, 'compound': 0.4588}\n",
      "\n",
      "I'll put the full thing out next year\n",
      "{'neg': 0.0, 'neu': 1.0, 'pos': 0.0, 'compound': 0.0}\n",
      "\n",
      "I'm slowly working through them. There is a lot of trauma and sadness so I have to take it in bite size pieces, as I'm presently doing my own trauma therapy. 😊\n",
      "{'neg': 0.195, 'neu': 0.667, 'pos': 0.138, 'compound': -0.3612}\n",
      "\n",
      "Story not sorry but you knew that, dang autocorrect\n",
      "{'neg': 0.0, 'neu': 0.878, 'pos': 0.122, 'compound': 0.0286}\n",
      "\n",
      "Thanks for asking, I am definitely improving which is why I think I can be of service to an older kid in need of a home.\n",
      "{'neg': 0.0, 'neu': 0.693, 'pos': 0.307, 'compound': 0.8126}\n",
      "\n",
      "That was beautiful I forgot about that song, I was so sad then. You reminded me of one of my favorites, Aimee Mann ❤\n",
      "{'neg': 0.13, 'neu': 0.652, 'pos': 0.218, 'compound': 0.4037}\n",
      "\n",
      "Send me your sorry to the above address\n",
      "{'neg': 0.157, 'neu': 0.843, 'pos': 0.0, 'compound': -0.0772}\n",
      "\n",
      "This is great and hilarious, thank you! The little one!!!!\n",
      "{'neg': 0.0, 'neu': 0.401, 'pos': 0.599, 'compound': 0.8877}\n",
      "\n",
      "Upload them to YouTube and tweet them to everyone on earth !\n",
      "{'neg': 0.0, 'neu': 1.0, 'pos': 0.0, 'compound': 0.0}\n",
      "\n",
      "I walked into a rusty car bumper when I was three as I turned to wave to a friend from pre school. I then turned around directly into sharp rust.\n",
      "{'neg': 0.0, 'neu': 0.878, 'pos': 0.122, 'compound': 0.4939}\n",
      "\n",
      "It'll be out in October\n",
      "{'neg': 0.0, 'neu': 1.0, 'pos': 0.0, 'compound': 0.0}\n",
      "\n",
      "Hi buddy.\n",
      "Chin up.\n",
      "This too shall pass. 🙌\n",
      "{'neg': 0.0, 'neu': 1.0, 'pos': 0.0, 'compound': 0.0}\n",
      "\n",
      "Aww shucks, heart swell you guys! https://twitter.com/SiaFurlerPhoto_/status/1121998699473850369 …\n",
      "{'neg': 0.0, 'neu': 1.0, 'pos': 0.0, 'compound': 0.0}\n",
      "\n",
      "Take your Thursday with A Side of Sia on @Spotify 💝  https://spoti.fi/2Hyko8D  - Team Sia pic.twitter.com/7xQdqjs89N\n",
      "{'neg': 0.0, 'neu': 1.0, 'pos': 0.0, 'compound': 0.0}\n",
      "\n",
      "We're the Oakland Nights of the round table ✨watch the video for @thelonelyisland's \"Oakland Nights\" ft. Sia from the Unauthorized Bash Brothers Experience  https://youtu.be/LD4ryByjVyo  + get the song  https://UnauthorizedBashBros.lnk.to/TLI  - Team Sia\n",
      "{'neg': 0.0, 'neu': 1.0, 'pos': 0.0, 'compound': 0.0}\n",
      "\n",
      "@HeyLeanneFord I'm so proud of you I'm bingeing season two presently on @hgtv and in googling your Twitter I found congratulations are in order on the new baby!! Hugs.\n",
      "{'neg': 0.0, 'neu': 0.682, 'pos': 0.318, 'compound': 0.9131}\n",
      "\n",
      "Wow I think \"the professor\" with Johnny Depp is his best performance to date, and a beautiful funny and sad tale.\n",
      "I loved it. Well done cast and crew!\n",
      "{'neg': 0.072, 'neu': 0.44, 'pos': 0.488, 'compound': 0.9583}\n",
      "\n",
      "Thanks guys!!!\n",
      "{'neg': 0.0, 'neu': 0.209, 'pos': 0.791, 'compound': 0.5826}\n",
      "\n",
      "From \"Diamonds\" to \"Dusk Till Dawn,\" all your favorite Sia-penned songs are in one place on @Spotify!  https://spoti.fi/2Jnc1Ph  - Team Sia pic.twitter.com/piqYvelpRk\n",
      "{'neg': 0.0, 'neu': 0.859, 'pos': 0.141, 'compound': 0.5093}\n",
      "\n",
      "The dance party begins 💫 #LSD Know New Friends remixes out now  http://smarturl.it/lsdknownewfriends … - Team Sia pic.twitter.com/G5r9hCuPO2\n",
      "{'neg': 0.092, 'neu': 0.628, 'pos': 0.28, 'compound': 0.5994}\n",
      "\n",
      "Hey @RickDevensWGXA you played a killer game, maybe as dastardly as @BostonRob but with humor and vulnerability.\n",
      "I love you keep going!\n",
      "{'neg': 0.164, 'neu': 0.493, 'pos': 0.343, 'compound': 0.7537}\n",
      "\n",
      "Hey @AuroraMcCreary I'm giving you ,15k just for making it through foster care. I love you, keep going!\n",
      "{'neg': 0.0, 'neu': 0.581, 'pos': 0.419, 'compound': 0.8777}\n",
      "\n",
      "Hey @janglim21 if you cut your hair off and donate it to a children's cancer wig making charity I'll give you 15k\n",
      "{'neg': 0.238, 'neu': 0.659, 'pos': 0.103, 'compound': -0.5719}\n",
      "\n",
      "Congratulations to AT THE HEART OF GOLD, which features Sia’s “I’m Still Here”, on their @mtvmovieaward nomination! - Team Sia https://www.hollywoodreporter.com/lists/avengers-endgame-mtv-movie-tv-awards-nominations-full-list-2019-1206928/item/meme-moment-1210582?utm_source=Sailthru&utm_medium=email&utm_campaign=THR%20Awards%20Alerts_2019-05-14%2012:00:00_knordyke&utm_term=hollywoodreporter_therace_alerts …\n",
      "{'neg': 0.0, 'neu': 0.819, 'pos': 0.181, 'compound': 0.636}\n",
      "\n",
      "Health care is a human right. Team Sia's proud to join more than 165 artists to show support for health care access & the Title X program. Check out the full ad in @variety & learn more at  http://protectx.org/learn . #ProtectX - Team Sia pic.twitter.com/f3bHAfctD9\n",
      "{'neg': 0.0, 'neu': 0.702, 'pos': 0.298, 'compound': 0.9246}\n",
      "\n",
      "@VRC_Pitbull I love you guys and I have a big special something for you.  Dm me so we can talk!\n",
      "{'neg': 0.0, 'neu': 0.676, 'pos': 0.324, 'compound': 0.8016}\n",
      "\n",
      "@SaveVillalobos I love you and I have a big special something for you and your big family.\n",
      "{'neg': 0.0, 'neu': 0.635, 'pos': 0.365, 'compound': 0.7845}\n",
      "\n",
      "This Mother’s Day, take a moment to watch the @ACLU’s video feature on incarcerated women. This issue impacts all of us. Watch these videos and please share. - Team Sia ( https://www.aclu.org/incarcerated-women …)\n",
      "{'neg': 0.0, 'neu': 0.862, 'pos': 0.138, 'compound': 0.5423}\n",
      "\n",
      "Your fave Sia jams, remixed 🎶 listen to 1000 Forms of Sia: The Remixes on @Spotify  https://spoti.fi/2Hb6R5v  - Team Sia pic.twitter.com/FE5NevUwC7\n",
      "{'neg': 0.0, 'neu': 0.873, 'pos': 0.127, 'compound': 0.4404}\n",
      "\n",
      "Aww that's AWESOME!\n",
      "{'neg': 0.0, 'neu': 0.281, 'pos': 0.719, 'compound': 0.729}\n",
      "\n",
      "The fact that you care this much tells me your very worst will be better than most people's best. Imagine they're naked and also that you are safe and people are rooting for you to succeed.\n",
      "{'neg': 0.086, 'neu': 0.587, 'pos': 0.327, 'compound': 0.9059}\n",
      "\n",
      "NFTP identical.\n",
      "Last run before we retire it. I think.\n",
      "{'neg': 0.0, 'neu': 1.0, 'pos': 0.0, 'compound': 0.0}\n",
      "\n",
      "Oh babe. I've missed you.\n",
      "{'neg': 0.355, 'neu': 0.645, 'pos': 0.0, 'compound': -0.296}\n",
      "\n",
      "I'm ok, I'm being a little brat, people are homeless, hungry, and dying all over the world I need to shut the fuck up!\n",
      "{'neg': 0.146, 'neu': 0.769, 'pos': 0.085, 'compound': -0.3802}\n",
      "\n"
     ]
    }
   ],
   "source": [
    "from vaderSentiment.vaderSentiment import SentimentIntensityAnalyzer\n",
    "\n",
    "res = []\n",
    "analyzer = SentimentIntensityAnalyzer()\n",
    "for tweet in data['tweets']:\n",
    "    vs = analyzer.polarity_scores(tweet['tweet'])\n",
    "    print(tweet['tweet'])\n",
    "    print(vs)\n",
    "    print()"
   ]
  },
  {
   "cell_type": "code",
   "execution_count": null,
   "metadata": {},
   "outputs": [],
   "source": []
  },
  {
   "cell_type": "code",
   "execution_count": null,
   "metadata": {},
   "outputs": [],
   "source": []
  },
  {
   "cell_type": "code",
   "execution_count": null,
   "metadata": {},
   "outputs": [],
   "source": []
  },
  {
   "cell_type": "code",
   "execution_count": null,
   "metadata": {},
   "outputs": [],
   "source": []
  }
 ],
 "metadata": {
  "kernelspec": {
   "display_name": "Python 3",
   "language": "python",
   "name": "python3"
  },
  "language_info": {
   "codemirror_mode": {
    "name": "ipython",
    "version": 3
   },
   "file_extension": ".py",
   "mimetype": "text/x-python",
   "name": "python",
   "nbconvert_exporter": "python",
   "pygments_lexer": "ipython3",
   "version": "3.7.4"
  }
 },
 "nbformat": 4,
 "nbformat_minor": 2
}
